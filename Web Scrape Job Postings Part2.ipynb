{
 "cells": [
  {
   "cell_type": "markdown",
   "metadata": {},
   "source": [
    "# ![](https://ga-dash.s3.amazonaws.com/production/assets/logo-9f88ae6c9c3871690e33280fcf557f33.png) Project 4: Web Scraping Job Postings\n",
    "\n",
    "## Business Case Overview\n",
    "\n",
    "You're working as a data scientist for a contracting firm that's rapidly expanding. Now that they have their most valuable employee (you!), they need to leverage data to win more contracts. Your firm offers technology and scientific solutions and wants to be competitive in the hiring market. Your principal has two main objectives:\n",
    "\n",
    "   1. Determine the industry factors that are most important in predicting the salary amounts for these data.\n",
    "   2. Determine the factors that distinguish job categories and titles from each other. For example, can required skills accurately predict job title?\n",
    "\n",
    "To limit the scope, your principal has suggested that you *focus on data-related job postings*, e.g. data scientist, data analyst, research scientist, business intelligence, and any others you might think of. You may also want to decrease the scope by *limiting your search to a single region.*\n",
    "\n",
    "Hint: Aggregators like [Indeed.com](https://www.indeed.com) regularly pool job postings from a variety of markets and industries. \n",
    "\n",
    "**Goal:** Scrape your own data from a job aggregation tool like Indeed.com in order to collect the data to best answer these two questions.\n",
    "\n",
    "---\n",
    "\n",
    "## Directions\n",
    "\n",
    "In this project you will be leveraging a variety of skills. The first will be to use the web-scraping and/or API techniques you've learned to collect data on data jobs from Indeed.com or another aggregator. Once you have collected and cleaned the data, you will use it to answer the two questions described above.\n",
    "\n",
    "### QUESTION 1: Factors that impact salary\n",
    "\n",
    "To predict salary you will be building either a classification or regression model, using features like the location, title, and summary of the job. If framing this as a regression problem, you will be estimating the listed salary amounts. You may instead choose to frame this as a classification problem, in which case you will create labels from these salaries (high vs. low salary, for example) according to thresholds (such as median salary).\n",
    "\n",
    "You have learned a variety of new skills and models that may be useful for this problem:\n",
    "- NLP\n",
    "- Unsupervised learning and dimensionality reduction techniques (PCA, clustering)\n",
    "- Ensemble methods and decision tree models\n",
    "- SVM models\n",
    "\n",
    "Whatever you decide to use, the most important thing is to justify your choices and interpret your results. *Communication of your process is key.* Note that most listings **DO NOT** come with salary information. You'll need to able to extrapolate or predict the expected salaries for these listings.\n",
    "\n",
    "### QUESTION 2: Factors that distinguish job category\n",
    "\n",
    "Using the job postings you scraped for part 1 (or potentially new job postings from a second round of scraping), identify features in the data related to job postings that can distinguish job titles from each other. There are a variety of interesting ways you can frame the target variable, for example:\n",
    "- What components of a job posting distinguish data scientists from other data jobs?\n",
    "- What features are important for distinguishing junior vs. senior positions?\n",
    "- Do the requirements for titles vary significantly with industry (e.g. healthcare vs. government)?\n",
    "\n",
    "You may end up making multiple classification models to tackle different questions. Be sure to clearly explain your hypotheses and framing, any feature engineering, and what your target variables are. The type of classification model you choose is up to you. Be sure to interpret your results and evaluate your models' performance.\n",
    "\n",
    "\n",
    "### BONUS PROBLEM\n",
    "\n",
    "Your boss would rather tell a client incorrectly that they would get a lower salary job than tell a client incorrectly that they would get a high salary job. Adjust one of your models to ease his mind, and explain what it is doing and any tradeoffs. Plot the ROC curve.\n",
    "\n",
    "---\n",
    "\n",
    "## Requirements\n",
    "\n",
    "1. Scrape and prepare your own data.\n",
    "\n",
    "2. **Create and compare at least two models for each section**. One of the two models should be a decision tree or ensemble model. The other can be a classifier or regression of your choosing (e.g. Ridge, logistic regression, KNN, SVM, etc).\n",
    "   - Section 1: Job Salary Trends\n",
    "   - Section 2: Job Category Factors\n",
    "\n",
    "3. Prepare a polished Jupyter Notebook with your analysis for a peer audience of data scientists. \n",
    "   - Make sure to clearly describe and label each section.\n",
    "   - Comment on your code so that others could, in theory, replicate your work.\n",
    "\n",
    "4. A brief writeup in an executive summary, written for a non-technical audience.\n",
    "   - Writeups should be at least 500-1000 words, defining any technical terms, explaining your approach, as well as any risks and limitations.\n",
    "\n",
    "#### BONUS\n",
    "\n",
    "5. Answer the salary discussion by using your model to explain the tradeoffs between detecting high vs low salary positions.\n",
    "\n",
    "6. Convert your executive summary into a public blog post of at least 500 words, in which you document your approach in a tutorial for other aspiring data scientists. Link to this in your notebook.\n",
    "\n",
    "---\n",
    "\n",
    "## Suggestions for Getting Started\n",
    "\n",
    "1. Collect data from [Indeed.com](www.indeed.com) (or another aggregator) on data-related jobs to use in predicting salary trends for your analysis.\n",
    "  - Select and parse data from *at least 1000 postings* for jobs, potentially from multiple location searches.\n",
    "2. Find out what factors most directly impact salaries (e.g. title, location, department, etc).\n",
    "  - Test, validate, and describe your models. What factors predict salary category? How do your models perform?\n",
    "3. Discover which features have the greatest importance when determining a low vs. high paying job.\n",
    "  - Your Boss is interested in what overall features hold the greatest significance.\n",
    "  - HR is interested in which SKILLS and KEY WORDS hold the greatest significance.   \n",
    "4. Author an executive summary that details the highlights of your analysis for a non-technical audience.\n",
    "5. If tackling the bonus question, try framing the salary problem as a classification problem detecting low vs. high salary positions.\n",
    "\n",
    "---\n",
    "\n",
    "## Useful Resources\n",
    "\n",
    "- Scraping is one of the most fun, useful and interesting skills out there. Don’t lose out by copying someone else's code!\n",
    "- [Here is some advice on how to write for a non-technical audience](http://programmers.stackexchange.com/questions/11523/explaining-technical-things-to-non-technical-people)\n",
    "- [Documentation for BeautifulSoup can be found here](http://www.crummy.com/software/BeautifulSoup/).\n",
    "\n",
    "---\n",
    "\n",
    "### Project Feedback + Evaluation\n",
    "\n",
    "For all projects, students will be evaluated on a simple 3 point scale (0, 1, or 2). Instructors will use this rubric when scoring student performance on each of the core project **requirements:** \n",
    "\n",
    "Score | Expectations\n",
    "----- | ------------\n",
    "**0** | _Does not meet expectations. Try again._\n",
    "**1** | _Meets expectations. Good job._\n",
    "**2** | _Surpasses expectations. Brilliant!_\n",
    "\n",
    "[For more information on how we grade our DSI projects, see our project grading walkthrough.](https://git.generalassemb.ly/dsi-projects/readme/blob/master/README.md)\n"
   ]
  },
  {
   "cell_type": "markdown",
   "metadata": {},
   "source": [
    "Question 1"
   ]
  },
  {
   "cell_type": "code",
   "execution_count": 59,
   "metadata": {},
   "outputs": [],
   "source": [
    "import pandas as pd\n",
    "import numpy as np\n",
    "import matplotlib.pyplot as plt\n",
    "import seaborn as sns"
   ]
  },
  {
   "cell_type": "code",
   "execution_count": 60,
   "metadata": {},
   "outputs": [
    {
     "data": {
      "text/html": [
       "<div>\n",
       "<style scoped>\n",
       "    .dataframe tbody tr th:only-of-type {\n",
       "        vertical-align: middle;\n",
       "    }\n",
       "\n",
       "    .dataframe tbody tr th {\n",
       "        vertical-align: top;\n",
       "    }\n",
       "\n",
       "    .dataframe thead th {\n",
       "        text-align: right;\n",
       "    }\n",
       "</style>\n",
       "<table border=\"1\" class=\"dataframe\">\n",
       "  <thead>\n",
       "    <tr style=\"text-align: right;\">\n",
       "      <th></th>\n",
       "      <th>company</th>\n",
       "      <th>position</th>\n",
       "      <th>job_id</th>\n",
       "      <th>location</th>\n",
       "      <th>employment_type</th>\n",
       "      <th>job_level</th>\n",
       "      <th>min_experience</th>\n",
       "      <th>job_category</th>\n",
       "      <th>salary</th>\n",
       "      <th>salary_type</th>\n",
       "      <th>role_responsibility</th>\n",
       "      <th>requirement</th>\n",
       "    </tr>\n",
       "  </thead>\n",
       "  <tbody>\n",
       "    <tr>\n",
       "      <th>0</th>\n",
       "      <td>NATIONAL UNIVERSITY OF SINGAPORE</td>\n",
       "      <td>Postdoctoral Fellow / Research Fellow (Data An...</td>\n",
       "      <td>JOB-2019-0065979</td>\n",
       "      <td>21 LOWER KENT RIDGE ROAD 119077</td>\n",
       "      <td>Contract</td>\n",
       "      <td>Professional</td>\n",
       "      <td>3 years  exp</td>\n",
       "      <td>Sciences / Laboratory / R&amp;D</td>\n",
       "      <td>$5,000to$6,500</td>\n",
       "      <td>Monthly</td>\n",
       "      <td>Post-doctoral Research Fellow (Data Analytics)...</td>\n",
       "      <td>• Possess a Master or PhD in a relevant field ...</td>\n",
       "    </tr>\n",
       "    <tr>\n",
       "      <th>1</th>\n",
       "      <td>CTRLSHIFT SINGAPORE PTE. LTD.</td>\n",
       "      <td>Data Scientist</td>\n",
       "      <td>JOB-2019-0024152</td>\n",
       "      <td>INFINITE STUDIOS, 21 MEDIA CIRCLE 138562</td>\n",
       "      <td>Permanent</td>\n",
       "      <td>Senior Executive</td>\n",
       "      <td>2 years  exp</td>\n",
       "      <td>Advertising / Media , Information Technology, ...</td>\n",
       "      <td>$3,000to$10,000</td>\n",
       "      <td>Monthly</td>\n",
       "      <td>Build models with assistance and perform expl...</td>\n",
       "      <td>PhD/Master’s /Bachelors degree in Computer Sc...</td>\n",
       "    </tr>\n",
       "    <tr>\n",
       "      <th>2</th>\n",
       "      <td>RIO TINTO COMMERCIAL PTE. LTD.</td>\n",
       "      <td>Senior Data Scientist</td>\n",
       "      <td>JOB-2019-0090665</td>\n",
       "      <td>MARINA BAY FINANCIAL CENTRE, 12 MARINA BOULEVA...</td>\n",
       "      <td>Permanent, Full Time</td>\n",
       "      <td>Professional</td>\n",
       "      <td>8 years  exp</td>\n",
       "      <td>Information Technology, Logistics / Supply Chain</td>\n",
       "      <td>$12,000to$23,000</td>\n",
       "      <td>Monthly</td>\n",
       "      <td>Our vision is to build a unified Commercial Di...</td>\n",
       "      <td>Experience:  Techniques like: Statistics based...</td>\n",
       "    </tr>\n",
       "    <tr>\n",
       "      <th>3</th>\n",
       "      <td>HITACHI CONSULTING SINGAPORE PTE. LTD.</td>\n",
       "      <td>Senior Consultant (Data Scientist)</td>\n",
       "      <td>JOB-2019-0089896</td>\n",
       "      <td>PLAZA 8 @ CBP, 1 CHANGI BUSINESS PARK CRESCENT...</td>\n",
       "      <td>Permanent, Contract</td>\n",
       "      <td>Senior Executive</td>\n",
       "      <td>NaN</td>\n",
       "      <td>Information Technology</td>\n",
       "      <td>$6,000to$9,000</td>\n",
       "      <td>Monthly</td>\n",
       "      <td>Problem solver with curious mindset with a hi...</td>\n",
       "      <td>Sound knowledge of machine learning concepts....</td>\n",
       "    </tr>\n",
       "    <tr>\n",
       "      <th>4</th>\n",
       "      <td>TRAVELOKA SERVICES PTE. LTD.</td>\n",
       "      <td>Data Science Lead</td>\n",
       "      <td>JOB-2019-0089680</td>\n",
       "      <td>NaN</td>\n",
       "      <td>Full Time</td>\n",
       "      <td>Manager</td>\n",
       "      <td>NaN</td>\n",
       "      <td>Information Technology</td>\n",
       "      <td>$10,000to$15,000</td>\n",
       "      <td>Monthly</td>\n",
       "      <td>As a Data scientist, you play a key role to so...</td>\n",
       "      <td>We are looking for someone with:  Passion in b...</td>\n",
       "    </tr>\n",
       "  </tbody>\n",
       "</table>\n",
       "</div>"
      ],
      "text/plain": [
       "                                  company  \\\n",
       "0        NATIONAL UNIVERSITY OF SINGAPORE   \n",
       "1           CTRLSHIFT SINGAPORE PTE. LTD.   \n",
       "2          RIO TINTO COMMERCIAL PTE. LTD.   \n",
       "3  HITACHI CONSULTING SINGAPORE PTE. LTD.   \n",
       "4            TRAVELOKA SERVICES PTE. LTD.   \n",
       "\n",
       "                                            position              job_id  \\\n",
       "0  Postdoctoral Fellow / Research Fellow (Data An...   JOB-2019-0065979    \n",
       "1                                     Data Scientist   JOB-2019-0024152    \n",
       "2                              Senior Data Scientist   JOB-2019-0090665    \n",
       "3                 Senior Consultant (Data Scientist)   JOB-2019-0089896    \n",
       "4                                  Data Science Lead   JOB-2019-0089680    \n",
       "\n",
       "                                            location       employment_type  \\\n",
       "0                    21 LOWER KENT RIDGE ROAD 119077              Contract   \n",
       "1           INFINITE STUDIOS, 21 MEDIA CIRCLE 138562             Permanent   \n",
       "2  MARINA BAY FINANCIAL CENTRE, 12 MARINA BOULEVA...  Permanent, Full Time   \n",
       "3  PLAZA 8 @ CBP, 1 CHANGI BUSINESS PARK CRESCENT...   Permanent, Contract   \n",
       "4                                                NaN             Full Time   \n",
       "\n",
       "          job_level min_experience  \\\n",
       "0      Professional   3 years  exp   \n",
       "1  Senior Executive   2 years  exp   \n",
       "2      Professional   8 years  exp   \n",
       "3  Senior Executive            NaN   \n",
       "4           Manager            NaN   \n",
       "\n",
       "                                        job_category            salary  \\\n",
       "0                        Sciences / Laboratory / R&D    $5,000to$6,500   \n",
       "1  Advertising / Media , Information Technology, ...   $3,000to$10,000   \n",
       "2   Information Technology, Logistics / Supply Chain  $12,000to$23,000   \n",
       "3                             Information Technology    $6,000to$9,000   \n",
       "4                             Information Technology  $10,000to$15,000   \n",
       "\n",
       "  salary_type                                role_responsibility  \\\n",
       "0     Monthly  Post-doctoral Research Fellow (Data Analytics)...   \n",
       "1     Monthly   Build models with assistance and perform expl...   \n",
       "2     Monthly  Our vision is to build a unified Commercial Di...   \n",
       "3     Monthly   Problem solver with curious mindset with a hi...   \n",
       "4     Monthly  As a Data scientist, you play a key role to so...   \n",
       "\n",
       "                                         requirement  \n",
       "0  • Possess a Master or PhD in a relevant field ...  \n",
       "1   PhD/Master’s /Bachelors degree in Computer Sc...  \n",
       "2  Experience:  Techniques like: Statistics based...  \n",
       "3   Sound knowledge of machine learning concepts....  \n",
       "4  We are looking for someone with:  Passion in b...  "
      ]
     },
     "execution_count": 60,
     "metadata": {},
     "output_type": "execute_result"
    }
   ],
   "source": [
    "df = pd.read_csv('./project4_data.csv', index_col = 0)\n",
    "df.head()"
   ]
  },
  {
   "cell_type": "code",
   "execution_count": 61,
   "metadata": {},
   "outputs": [],
   "source": [
    "# Remove same job postings based on job_id\n",
    "\n",
    "df = df.drop_duplicates(['job_id'])"
   ]
  },
  {
   "cell_type": "code",
   "execution_count": 62,
   "metadata": {
    "scrolled": true
   },
   "outputs": [
    {
     "data": {
      "text/plain": [
       "(1250, 12)"
      ]
     },
     "execution_count": 62,
     "metadata": {},
     "output_type": "execute_result"
    }
   ],
   "source": [
    "# Check the number of jobs and features\n",
    "\n",
    "df.shape"
   ]
  },
  {
   "cell_type": "code",
   "execution_count": 63,
   "metadata": {},
   "outputs": [
    {
     "data": {
      "text/plain": [
       "company                object\n",
       "position               object\n",
       "job_id                 object\n",
       "location               object\n",
       "employment_type        object\n",
       "job_level              object\n",
       "min_experience         object\n",
       "job_category           object\n",
       "salary                 object\n",
       "salary_type            object\n",
       "role_responsibility    object\n",
       "requirement            object\n",
       "dtype: object"
      ]
     },
     "execution_count": 63,
     "metadata": {},
     "output_type": "execute_result"
    }
   ],
   "source": [
    "# Check the data type of each feature\n",
    "\n",
    "df.dtypes"
   ]
  },
  {
   "cell_type": "code",
   "execution_count": 64,
   "metadata": {},
   "outputs": [
    {
     "name": "stdout",
     "output_type": "stream",
     "text": [
      "<class 'pandas.core.frame.DataFrame'>\n",
      "Int64Index: 1250 entries, 0 to 1491\n",
      "Data columns (total 12 columns):\n",
      "company                1249 non-null object\n",
      "position               1249 non-null object\n",
      "job_id                 1249 non-null object\n",
      "location               989 non-null object\n",
      "employment_type        1249 non-null object\n",
      "job_level              1228 non-null object\n",
      "min_experience         78 non-null object\n",
      "job_category           1249 non-null object\n",
      "salary                 1148 non-null object\n",
      "salary_type            1149 non-null object\n",
      "role_responsibility    1249 non-null object\n",
      "requirement            1177 non-null object\n",
      "dtypes: object(12)\n",
      "memory usage: 127.0+ KB\n"
     ]
    }
   ],
   "source": [
    "# Check the null entries of each feature\n",
    "\n",
    "df.info()"
   ]
  },
  {
   "cell_type": "code",
   "execution_count": 65,
   "metadata": {},
   "outputs": [
    {
     "data": {
      "text/plain": [
       "company                   1\n",
       "position                  1\n",
       "job_id                    1\n",
       "location                261\n",
       "employment_type           1\n",
       "job_level                22\n",
       "min_experience         1172\n",
       "job_category              1\n",
       "salary                  102\n",
       "salary_type             101\n",
       "role_responsibility       1\n",
       "requirement              73\n",
       "dtype: int64"
      ]
     },
     "execution_count": 65,
     "metadata": {},
     "output_type": "execute_result"
    }
   ],
   "source": [
    "df.isnull().sum()[df.isnull().sum() != 0]"
   ]
  },
  {
   "cell_type": "code",
   "execution_count": 66,
   "metadata": {},
   "outputs": [
    {
     "data": {
      "text/html": [
       "<div>\n",
       "<style scoped>\n",
       "    .dataframe tbody tr th:only-of-type {\n",
       "        vertical-align: middle;\n",
       "    }\n",
       "\n",
       "    .dataframe tbody tr th {\n",
       "        vertical-align: top;\n",
       "    }\n",
       "\n",
       "    .dataframe thead th {\n",
       "        text-align: right;\n",
       "    }\n",
       "</style>\n",
       "<table border=\"1\" class=\"dataframe\">\n",
       "  <thead>\n",
       "    <tr style=\"text-align: right;\">\n",
       "      <th></th>\n",
       "      <th>company</th>\n",
       "      <th>position</th>\n",
       "      <th>job_id</th>\n",
       "      <th>location</th>\n",
       "      <th>employment_type</th>\n",
       "      <th>job_level</th>\n",
       "      <th>min_experience</th>\n",
       "      <th>job_category</th>\n",
       "      <th>salary</th>\n",
       "      <th>salary_type</th>\n",
       "      <th>role_responsibility</th>\n",
       "      <th>requirement</th>\n",
       "    </tr>\n",
       "  </thead>\n",
       "  <tbody>\n",
       "    <tr>\n",
       "      <th>157</th>\n",
       "      <td>NaN</td>\n",
       "      <td>NaN</td>\n",
       "      <td>NaN</td>\n",
       "      <td>NaN</td>\n",
       "      <td>NaN</td>\n",
       "      <td>NaN</td>\n",
       "      <td>NaN</td>\n",
       "      <td>NaN</td>\n",
       "      <td>NaN</td>\n",
       "      <td>NaN</td>\n",
       "      <td>NaN</td>\n",
       "      <td>NaN</td>\n",
       "    </tr>\n",
       "  </tbody>\n",
       "</table>\n",
       "</div>"
      ],
      "text/plain": [
       "    company position job_id location employment_type job_level min_experience  \\\n",
       "157     NaN      NaN    NaN      NaN             NaN       NaN            NaN   \n",
       "\n",
       "    job_category salary salary_type role_responsibility requirement  \n",
       "157          NaN    NaN         NaN                 NaN         NaN  "
      ]
     },
     "execution_count": 66,
     "metadata": {},
     "output_type": "execute_result"
    }
   ],
   "source": [
    "df[df['company'].isnull()]"
   ]
  },
  {
   "cell_type": "code",
   "execution_count": 67,
   "metadata": {},
   "outputs": [],
   "source": [
    "# Remove row as all information are NaN\n",
    "\n",
    "df = df.drop(157, axis = 0)"
   ]
  },
  {
   "cell_type": "code",
   "execution_count": 68,
   "metadata": {
    "scrolled": true
   },
   "outputs": [],
   "source": [
    "# Remove min_experience column as majority are NaN\n",
    "\n",
    "df = df.drop(['min_experience'], axis = 1)"
   ]
  },
  {
   "cell_type": "code",
   "execution_count": 69,
   "metadata": {},
   "outputs": [],
   "source": [
    "# Remove rows where salary is NaN\n",
    "\n",
    "df = df.dropna(subset = ['salary'], axis = 0)"
   ]
  },
  {
   "cell_type": "code",
   "execution_count": 70,
   "metadata": {
    "scrolled": false
   },
   "outputs": [
    {
     "data": {
      "text/plain": [
       "location       223\n",
       "job_level        1\n",
       "requirement     43\n",
       "dtype: int64"
      ]
     },
     "execution_count": 70,
     "metadata": {},
     "output_type": "execute_result"
    }
   ],
   "source": [
    "# Check the null entries of each feature again\n",
    "\n",
    "df.isnull().sum()[df.isnull().sum() != 0]"
   ]
  },
  {
   "cell_type": "code",
   "execution_count": 71,
   "metadata": {},
   "outputs": [],
   "source": [
    "# Remove row where job_level is NaN\n",
    "\n",
    "df = df.dropna(subset = ['job_level'], axis = 0)"
   ]
  },
  {
   "cell_type": "code",
   "execution_count": 72,
   "metadata": {},
   "outputs": [
    {
     "data": {
      "text/plain": [
       "location       223\n",
       "requirement     42\n",
       "dtype: int64"
      ]
     },
     "execution_count": 72,
     "metadata": {},
     "output_type": "execute_result"
    }
   ],
   "source": [
    "# Check the null entries of each feature again\n",
    "\n",
    "df.isnull().sum()[df.isnull().sum() != 0]"
   ]
  },
  {
   "cell_type": "code",
   "execution_count": 73,
   "metadata": {},
   "outputs": [
    {
     "data": {
      "text/plain": [
       "(1147, 11)"
      ]
     },
     "execution_count": 73,
     "metadata": {},
     "output_type": "execute_result"
    }
   ],
   "source": [
    "# Check the number of jobs and features again\n",
    "\n",
    "df.shape"
   ]
  },
  {
   "cell_type": "code",
   "execution_count": 74,
   "metadata": {},
   "outputs": [],
   "source": [
    "# Create target column mean_salary\n",
    "\n",
    "df[['salary_lower','salary_upper']] = df['salary'].str.split('to', expand = True,)\n",
    "df[['salary_lower', 'salary_upper']] = df[['salary_lower', 'salary_upper']].astype(str)\n",
    "df[['salary_lower', 'salary_upper']] = df[['salary_lower', 'salary_upper']].replace({'\\$': '', ',': ''}, regex = True)\n",
    "df[['salary_lower', 'salary_upper']] = df[['salary_lower', 'salary_upper']].astype(int)\n",
    "\n",
    "df.loc[df['salary_type'] == 'Annually', 'salary_lower'] = df['salary_lower']/12\n",
    "df.loc[df['salary_type'] == 'Annually', 'salary_upper'] = df['salary_upper']/12\n",
    "\n",
    "df['mean_salary'] = (df['salary_lower'] + df['salary_upper'])/2"
   ]
  },
  {
   "cell_type": "code",
   "execution_count": 75,
   "metadata": {},
   "outputs": [
    {
     "data": {
      "text/html": [
       "<div>\n",
       "<style scoped>\n",
       "    .dataframe tbody tr th:only-of-type {\n",
       "        vertical-align: middle;\n",
       "    }\n",
       "\n",
       "    .dataframe tbody tr th {\n",
       "        vertical-align: top;\n",
       "    }\n",
       "\n",
       "    .dataframe thead th {\n",
       "        text-align: right;\n",
       "    }\n",
       "</style>\n",
       "<table border=\"1\" class=\"dataframe\">\n",
       "  <thead>\n",
       "    <tr style=\"text-align: right;\">\n",
       "      <th></th>\n",
       "      <th>salary_lower</th>\n",
       "      <th>salary_upper</th>\n",
       "      <th>mean_salary</th>\n",
       "    </tr>\n",
       "  </thead>\n",
       "  <tbody>\n",
       "    <tr>\n",
       "      <th>count</th>\n",
       "      <td>1147.000000</td>\n",
       "      <td>1147.000000</td>\n",
       "      <td>1147.000000</td>\n",
       "    </tr>\n",
       "    <tr>\n",
       "      <th>mean</th>\n",
       "      <td>5412.996513</td>\n",
       "      <td>8473.383319</td>\n",
       "      <td>6943.189916</td>\n",
       "    </tr>\n",
       "    <tr>\n",
       "      <th>std</th>\n",
       "      <td>2302.077786</td>\n",
       "      <td>4577.449460</td>\n",
       "      <td>3175.901305</td>\n",
       "    </tr>\n",
       "    <tr>\n",
       "      <th>min</th>\n",
       "      <td>800.000000</td>\n",
       "      <td>1200.000000</td>\n",
       "      <td>1000.000000</td>\n",
       "    </tr>\n",
       "    <tr>\n",
       "      <th>25%</th>\n",
       "      <td>4000.000000</td>\n",
       "      <td>6000.000000</td>\n",
       "      <td>5000.000000</td>\n",
       "    </tr>\n",
       "    <tr>\n",
       "      <th>50%</th>\n",
       "      <td>5000.000000</td>\n",
       "      <td>8000.000000</td>\n",
       "      <td>6500.000000</td>\n",
       "    </tr>\n",
       "    <tr>\n",
       "      <th>75%</th>\n",
       "      <td>6500.000000</td>\n",
       "      <td>10000.000000</td>\n",
       "      <td>8250.000000</td>\n",
       "    </tr>\n",
       "    <tr>\n",
       "      <th>max</th>\n",
       "      <td>22916.666667</td>\n",
       "      <td>75000.000000</td>\n",
       "      <td>40000.000000</td>\n",
       "    </tr>\n",
       "  </tbody>\n",
       "</table>\n",
       "</div>"
      ],
      "text/plain": [
       "       salary_lower  salary_upper   mean_salary\n",
       "count   1147.000000   1147.000000   1147.000000\n",
       "mean    5412.996513   8473.383319   6943.189916\n",
       "std     2302.077786   4577.449460   3175.901305\n",
       "min      800.000000   1200.000000   1000.000000\n",
       "25%     4000.000000   6000.000000   5000.000000\n",
       "50%     5000.000000   8000.000000   6500.000000\n",
       "75%     6500.000000  10000.000000   8250.000000\n",
       "max    22916.666667  75000.000000  40000.000000"
      ]
     },
     "execution_count": 75,
     "metadata": {},
     "output_type": "execute_result"
    }
   ],
   "source": [
    "df.describe()"
   ]
  },
  {
   "cell_type": "code",
   "execution_count": 76,
   "metadata": {},
   "outputs": [
    {
     "name": "stderr",
     "output_type": "stream",
     "text": [
      "/anaconda3/lib/python3.7/site-packages/scipy/stats/stats.py:1713: FutureWarning: Using a non-tuple sequence for multidimensional indexing is deprecated; use `arr[tuple(seq)]` instead of `arr[seq]`. In the future this will be interpreted as an array index, `arr[np.array(seq)]`, which will result either in an error or a different result.\n",
      "  return np.add.reduce(sorted[indexer] * weights, axis=axis) / sumval\n"
     ]
    },
    {
     "data": {
      "text/plain": [
       "Text(0.5, 1, 'Distribution of Lower End of Salary')"
      ]
     },
     "execution_count": 76,
     "metadata": {},
     "output_type": "execute_result"
    },
    {
     "data": {
      "image/png": "[encoded data removed]",
      "text/plain": [
       "<Figure size 432x288 with 1 Axes>"
      ]
     },
     "metadata": {
      "needs_background": "light"
     },
     "output_type": "display_data"
    }
   ],
   "source": [
    "ax = sns.distplot(df['salary_lower'])\n",
    "ax.set_title('Distribution of Lower End of Salary', y = 1) "
   ]
  },
  {
   "cell_type": "code",
   "execution_count": 77,
   "metadata": {},
   "outputs": [
    {
     "data": {
      "text/plain": [
       "Text(0.5, 1, 'Distribution of Upper End of Salary')"
      ]
     },
     "execution_count": 77,
     "metadata": {},
     "output_type": "execute_result"
    },
    {
     "data": {
      "image/png": "[encoded data removed]",
      "text/plain": [
       "<Figure size 432x288 with 1 Axes>"
      ]
     },
     "metadata": {
      "needs_background": "light"
     },
     "output_type": "display_data"
    }
   ],
   "source": [
    "ax = sns.distplot(df['salary_upper'])\n",
    "ax.set_title('Distribution of Upper End of Salary', y = 1) "
   ]
  },
  {
   "cell_type": "code",
   "execution_count": 78,
   "metadata": {
    "scrolled": true
   },
   "outputs": [
    {
     "data": {
      "text/plain": [
       "Text(0.5, 1, 'Distribution of Mean Salary')"
      ]
     },
     "execution_count": 78,
     "metadata": {},
     "output_type": "execute_result"
    },
    {
     "data": {
      "image/png": "[encoded data removed]",
      "text/plain": [
       "<Figure size 432x288 with 1 Axes>"
      ]
     },
     "metadata": {
      "needs_background": "light"
     },
     "output_type": "display_data"
    }
   ],
   "source": [
    "ax = sns.distplot(df['mean_salary']) \n",
    "ax.set_title('Distribution of Mean Salary', y = 1) "
   ]
  },
  {
   "cell_type": "code",
   "execution_count": 79,
   "metadata": {},
   "outputs": [
    {
     "data": {
      "text/html": [
       "<div>\n",
       "<style scoped>\n",
       "    .dataframe tbody tr th:only-of-type {\n",
       "        vertical-align: middle;\n",
       "    }\n",
       "\n",
       "    .dataframe tbody tr th {\n",
       "        vertical-align: top;\n",
       "    }\n",
       "\n",
       "    .dataframe thead th {\n",
       "        text-align: right;\n",
       "    }\n",
       "</style>\n",
       "<table border=\"1\" class=\"dataframe\">\n",
       "  <thead>\n",
       "    <tr style=\"text-align: right;\">\n",
       "      <th></th>\n",
       "      <th>company</th>\n",
       "      <th>position</th>\n",
       "      <th>job_id</th>\n",
       "      <th>location</th>\n",
       "      <th>employment_type</th>\n",
       "      <th>job_level</th>\n",
       "      <th>job_category</th>\n",
       "      <th>salary</th>\n",
       "      <th>salary_type</th>\n",
       "      <th>role_responsibility</th>\n",
       "      <th>requirement</th>\n",
       "      <th>salary_lower</th>\n",
       "      <th>salary_upper</th>\n",
       "      <th>mean_salary</th>\n",
       "    </tr>\n",
       "  </thead>\n",
       "  <tbody>\n",
       "    <tr>\n",
       "      <th>521</th>\n",
       "      <td>GATEWAY SEARCH PTE. LTD.</td>\n",
       "      <td>Sr Sitecore Developer</td>\n",
       "      <td>JOB-2019-0081258</td>\n",
       "      <td>MARINA ONE WEST TOWER, 9 STRAITS VIEW 018937</td>\n",
       "      <td>Permanent</td>\n",
       "      <td>Senior Executive</td>\n",
       "      <td>Information Technology</td>\n",
       "      <td>$5,000to$75,000</td>\n",
       "      <td>Monthly</td>\n",
       "      <td>Job Description  Minimum 2 years of applicatio...</td>\n",
       "      <td>2 years’ experience in designing, developing,...</td>\n",
       "      <td>5000.000000</td>\n",
       "      <td>75000.0</td>\n",
       "      <td>40000.000000</td>\n",
       "    </tr>\n",
       "    <tr>\n",
       "      <th>686</th>\n",
       "      <td>INFINEON TECHNOLOGIES ASIA PACIFIC PTE LTD</td>\n",
       "      <td>Business Analyst - Factory Integration</td>\n",
       "      <td>JOB-2019-0069111</td>\n",
       "      <td>INFINEON, 8 KALLANG SECTOR 349282</td>\n",
       "      <td>Permanent</td>\n",
       "      <td>Professional, Junior Executive</td>\n",
       "      <td>Information Technology</td>\n",
       "      <td>$3,000to$45,000</td>\n",
       "      <td>Monthly</td>\n",
       "      <td>In your new role you will:  Be performing Da...</td>\n",
       "      <td>You are best equipped for this task if you hav...</td>\n",
       "      <td>3000.000000</td>\n",
       "      <td>45000.0</td>\n",
       "      <td>24000.000000</td>\n",
       "    </tr>\n",
       "    <tr>\n",
       "      <th>768</th>\n",
       "      <td>SAMSUNG SDS ASIA PACIFIC PTE. LTD.</td>\n",
       "      <td>Assistant Manager / Manager</td>\n",
       "      <td>JOB-2019-0085229</td>\n",
       "      <td>MAPLETREE BUSINESS CITY, 30 PASIR PANJANG ROAD...</td>\n",
       "      <td>Permanent</td>\n",
       "      <td>Senior Executive</td>\n",
       "      <td>Others</td>\n",
       "      <td>$5,000to$70,000</td>\n",
       "      <td>Monthly</td>\n",
       "      <td>Compile complex data sets from a variety of...</td>\n",
       "      <td>Bachelor's degree in Mathematics, Computer Sc...</td>\n",
       "      <td>5000.000000</td>\n",
       "      <td>70000.0</td>\n",
       "      <td>37500.000000</td>\n",
       "    </tr>\n",
       "    <tr>\n",
       "      <th>818</th>\n",
       "      <td>S.W.I.F.T. TERMINAL SERVICES PTE. LTD.</td>\n",
       "      <td>MANAGERIAL / SENIOR MANAGEMENT</td>\n",
       "      <td>JOB-2019-0073800</td>\n",
       "      <td>80 ROBINSON ROAD 068898</td>\n",
       "      <td>Permanent</td>\n",
       "      <td>Senior Management, Manager</td>\n",
       "      <td>Banking and Finance</td>\n",
       "      <td>$275,000to$330,000</td>\n",
       "      <td>Annually</td>\n",
       "      <td>Job Title: Senior Product/Market Manager   SWI...</td>\n",
       "      <td>Responsibilities: Your responsibilities will b...</td>\n",
       "      <td>22916.666667</td>\n",
       "      <td>27500.0</td>\n",
       "      <td>25208.333333</td>\n",
       "    </tr>\n",
       "  </tbody>\n",
       "</table>\n",
       "</div>"
      ],
      "text/plain": [
       "                                        company  \\\n",
       "521                    GATEWAY SEARCH PTE. LTD.   \n",
       "686  INFINEON TECHNOLOGIES ASIA PACIFIC PTE LTD   \n",
       "768          SAMSUNG SDS ASIA PACIFIC PTE. LTD.   \n",
       "818      S.W.I.F.T. TERMINAL SERVICES PTE. LTD.   \n",
       "\n",
       "                                   position              job_id  \\\n",
       "521                   Sr Sitecore Developer   JOB-2019-0081258    \n",
       "686  Business Analyst - Factory Integration   JOB-2019-0069111    \n",
       "768             Assistant Manager / Manager   JOB-2019-0085229    \n",
       "818          MANAGERIAL / SENIOR MANAGEMENT   JOB-2019-0073800    \n",
       "\n",
       "                                              location employment_type  \\\n",
       "521       MARINA ONE WEST TOWER, 9 STRAITS VIEW 018937       Permanent   \n",
       "686                  INFINEON, 8 KALLANG SECTOR 349282       Permanent   \n",
       "768  MAPLETREE BUSINESS CITY, 30 PASIR PANJANG ROAD...       Permanent   \n",
       "818                            80 ROBINSON ROAD 068898       Permanent   \n",
       "\n",
       "                          job_level            job_category  \\\n",
       "521                Senior Executive  Information Technology   \n",
       "686  Professional, Junior Executive  Information Technology   \n",
       "768                Senior Executive                  Others   \n",
       "818      Senior Management, Manager     Banking and Finance   \n",
       "\n",
       "                 salary salary_type  \\\n",
       "521     $5,000to$75,000     Monthly   \n",
       "686     $3,000to$45,000     Monthly   \n",
       "768     $5,000to$70,000     Monthly   \n",
       "818  $275,000to$330,000    Annually   \n",
       "\n",
       "                                   role_responsibility  \\\n",
       "521  Job Description  Minimum 2 years of applicatio...   \n",
       "686    In your new role you will:  Be performing Da...   \n",
       "768     Compile complex data sets from a variety of...   \n",
       "818  Job Title: Senior Product/Market Manager   SWI...   \n",
       "\n",
       "                                           requirement  salary_lower  \\\n",
       "521   2 years’ experience in designing, developing,...   5000.000000   \n",
       "686  You are best equipped for this task if you hav...   3000.000000   \n",
       "768   Bachelor's degree in Mathematics, Computer Sc...   5000.000000   \n",
       "818  Responsibilities: Your responsibilities will b...  22916.666667   \n",
       "\n",
       "     salary_upper   mean_salary  \n",
       "521       75000.0  40000.000000  \n",
       "686       45000.0  24000.000000  \n",
       "768       70000.0  37500.000000  \n",
       "818       27500.0  25208.333333  "
      ]
     },
     "execution_count": 79,
     "metadata": {},
     "output_type": "execute_result"
    }
   ],
   "source": [
    "df[df['mean_salary'] >= 20000]"
   ]
  },
  {
   "cell_type": "code",
   "execution_count": 80,
   "metadata": {},
   "outputs": [],
   "source": [
    "# Take median of mean_salary as benchmark between high and low salary\n",
    "\n",
    "df['mean_salary_class'] = df['mean_salary'].map(lambda x:1 if x >= 6500 else 0)"
   ]
  },
  {
   "cell_type": "code",
   "execution_count": 81,
   "metadata": {},
   "outputs": [
    {
     "data": {
      "text/plain": [
       "1    0.508282\n",
       "0    0.491718\n",
       "Name: mean_salary_class, dtype: float64"
      ]
     },
     "execution_count": 81,
     "metadata": {},
     "output_type": "execute_result"
    }
   ],
   "source": [
    "# Baseline\n",
    "\n",
    "df['mean_salary_class'].value_counts()/len(df)"
   ]
  },
  {
   "cell_type": "code",
   "execution_count": 82,
   "metadata": {},
   "outputs": [
    {
     "data": {
      "text/plain": [
       "Business Analyst                                                            65\n",
       "Data Scientist                                                              46\n",
       "Data Engineer                                                               27\n",
       "Research Fellow                                                             25\n",
       "Senior Business Analyst                                                     20\n",
       "Data Engineer (5 days, Orchard, $3500-4000)                                 19\n",
       "Net Programmer [Ms SQL / .Net framework / C# / VB.NET / SDLC / Software]    14\n",
       "Research Associate                                                          13\n",
       "Data Analyst                                                                12\n",
       "Software Developer                                                          10\n",
       "Name: position, dtype: int64"
      ]
     },
     "execution_count": 82,
     "metadata": {},
     "output_type": "execute_result"
    }
   ],
   "source": [
    "# Check position\n",
    "\n",
    "df['position'].value_counts()[:10]"
   ]
  },
  {
   "cell_type": "code",
   "execution_count": 83,
   "metadata": {},
   "outputs": [],
   "source": [
    "df['position'] = df['position'].str.lower()\n",
    "\n",
    "position = []\n",
    "for i in df['position']:\n",
    "    if 'analyst' in i:\n",
    "        position.append('analyst')\n",
    "    elif 'scientist' in i:\n",
    "        position.append('scientist')\n",
    "    elif 'engineer' in i:\n",
    "        position.append('engineer')\n",
    "    elif 'research' in i:\n",
    "        position.append('researcher')\n",
    "    elif 'programmer' in i:\n",
    "        position.append('programmer')\n",
    "    elif 'developer' in i:\n",
    "        position.append('developer')\n",
    "    elif 'architect' in i:\n",
    "        position.append('architect')\n",
    "    elif 'consultant' in i:\n",
    "        position.append('consultant')\n",
    "    elif 'executive' in i:\n",
    "        position.append('executive')\n",
    "    elif 'manager' in i:\n",
    "        position.append('manager')\n",
    "    elif 'science' in i:\n",
    "        position.append('scientist')\n",
    "    elif 'designer' in i:\n",
    "        position.append('architect')\n",
    "    elif 'adminstrator' in i:\n",
    "        position.append('adminstrator')     \n",
    "    elif 'admin' in i:\n",
    "        position.append('adminstrator') \n",
    "    else:\n",
    "        position.append('others')\n",
    "        \n",
    "df['position'] = position"
   ]
  },
  {
   "cell_type": "code",
   "execution_count": 84,
   "metadata": {},
   "outputs": [
    {
     "data": {
      "text/plain": [
       "analyst         382\n",
       "engineer        233\n",
       "developer       107\n",
       "others          105\n",
       "scientist       100\n",
       "researcher       61\n",
       "manager          47\n",
       "consultant       47\n",
       "architect        27\n",
       "programmer       14\n",
       "adminstrator     13\n",
       "executive        11\n",
       "Name: position, dtype: int64"
      ]
     },
     "execution_count": 84,
     "metadata": {},
     "output_type": "execute_result"
    }
   ],
   "source": [
    "df['position'].value_counts()"
   ]
  },
  {
   "cell_type": "code",
   "execution_count": 85,
   "metadata": {},
   "outputs": [
    {
     "data": {
      "text/plain": [
       "Text(0.5, 1, 'Mean Salary by Position')"
      ]
     },
     "execution_count": 85,
     "metadata": {},
     "output_type": "execute_result"
    },
    {
     "data": {
      "image/png": "[encoded data removed]",
      "text/plain": [
       "<Figure size 432x288 with 1 Axes>"
      ]
     },
     "metadata": {
      "needs_background": "light"
     },
     "output_type": "display_data"
    }
   ],
   "source": [
    "ax = sns.boxplot(x = df['mean_salary'], y = df['position'])\n",
    "ax.set_ylabel('')\n",
    "ax.set_title('Mean Salary by Position', y = 1) "
   ]
  },
  {
   "cell_type": "code",
   "execution_count": 86,
   "metadata": {},
   "outputs": [],
   "source": [
    "# Create feature postal_district\n",
    "\n",
    "postal_code = []\n",
    "for i in df['location']:\n",
    "    try:\n",
    "        postal_code.append(i[-6:])\n",
    "    except:\n",
    "        postal_code.append(i)\n",
    "\n",
    "postal_district = []\n",
    "for i in postal_code:\n",
    "    i = str(i)\n",
    "    if i.startswith(('01','02','03','04','05','06')): \n",
    "        postal_district.append('district01')\n",
    "    elif i.startswith(('07','08')):\n",
    "        postal_district.append('district02')\n",
    "    elif i.startswith(('14','15','16')):\n",
    "        postal_district.append('district03')\n",
    "    elif i.startswith(('09','10')):\n",
    "        postal_district.append('district04')\n",
    "    elif i.startswith(('11','12','13')):\n",
    "        postal_district.append('district05')\n",
    "    elif i.startswith('17'):\n",
    "        postal_district.append('district06')\n",
    "    elif i.startswith(('18','19')):\n",
    "        postal_district.append('district07')\n",
    "    elif i.startswith(('20','21')):\n",
    "        postal_district.append('district08')\n",
    "    elif i.startswith(('22','23')):\n",
    "        postal_district.append('district09')\n",
    "    elif i.startswith(('24','25','26','27')):\n",
    "        postal_district.append('district10')\n",
    "    elif i.startswith(('28','29','30')):\n",
    "        postal_district.append('district11')\n",
    "    elif i.startswith(('31','32','33')):\n",
    "        postal_district.append('district12')\n",
    "    elif i.startswith(('34','35','36', '37')):\n",
    "        postal_district.append('district13')\n",
    "    elif i.startswith(('38','39','40','41')):\n",
    "        postal_district.append('district14')\n",
    "    elif i.startswith(('42','43','44','45')):\n",
    "        postal_district.append('district15')\n",
    "    elif i.startswith(('46','47','48')):\n",
    "        postal_district.append('district16')\n",
    "    elif i.startswith(('49','50','81')):\n",
    "        postal_district.append('district17')\n",
    "    elif i.startswith(('51','52')):\n",
    "        postal_district.append('district18')    \n",
    "    elif i.startswith(('53','54','55','82')):\n",
    "        postal_district.append('district19')\n",
    "    elif i.startswith(('56','57')):\n",
    "        postal_district.append('district20')\n",
    "    elif i.startswith(('58','59')):\n",
    "        postal_district.append('district21')\n",
    "    elif i.startswith(('60','61','62','63','64')):\n",
    "        postal_district.append('district22')\n",
    "    elif i.startswith(('65','66','67','68')):\n",
    "        postal_district.append('district23')\n",
    "    elif i.startswith(('69','70','71')):\n",
    "        postal_district.append('district24')\n",
    "    elif i.startswith(('72','73')):\n",
    "        postal_district.append('district25')\n",
    "    elif i.startswith(('77','78')):\n",
    "        postal_district.append('district26')\n",
    "    elif i.startswith(('75','76')):\n",
    "        postal_district.append('district27')\n",
    "    elif i.startswith(('79','80')):\n",
    "        postal_district.append('district28')\n",
    "    else:\n",
    "        postal_district.append(i)\n",
    "\n",
    "df['postal_district'] = postal_district"
   ]
  },
  {
   "cell_type": "code",
   "execution_count": 87,
   "metadata": {},
   "outputs": [
    {
     "data": {
      "text/plain": [
       "district01    376\n",
       "nan           223\n",
       "district05    111\n",
       "district22     57\n",
       "district14     56\n",
       "district02     48\n",
       "district07     44\n",
       "district16     36\n",
       "district09     31\n",
       "district06     28\n",
       "Name: postal_district, dtype: int64"
      ]
     },
     "execution_count": 87,
     "metadata": {},
     "output_type": "execute_result"
    }
   ],
   "source": [
    "df['postal_district'].value_counts()[:10]"
   ]
  },
  {
   "cell_type": "code",
   "execution_count": 88,
   "metadata": {
    "scrolled": false
   },
   "outputs": [
    {
     "data": {
      "text/html": [
       "<div>\n",
       "<style scoped>\n",
       "    .dataframe tbody tr th:only-of-type {\n",
       "        vertical-align: middle;\n",
       "    }\n",
       "\n",
       "    .dataframe tbody tr th {\n",
       "        vertical-align: top;\n",
       "    }\n",
       "\n",
       "    .dataframe thead th {\n",
       "        text-align: right;\n",
       "    }\n",
       "</style>\n",
       "<table border=\"1\" class=\"dataframe\">\n",
       "  <thead>\n",
       "    <tr style=\"text-align: right;\">\n",
       "      <th></th>\n",
       "      <th>company</th>\n",
       "      <th>position</th>\n",
       "      <th>job_id</th>\n",
       "      <th>location</th>\n",
       "      <th>employment_type</th>\n",
       "      <th>job_level</th>\n",
       "      <th>job_category</th>\n",
       "      <th>salary</th>\n",
       "      <th>salary_type</th>\n",
       "      <th>role_responsibility</th>\n",
       "      <th>requirement</th>\n",
       "      <th>salary_lower</th>\n",
       "      <th>salary_upper</th>\n",
       "      <th>mean_salary</th>\n",
       "      <th>mean_salary_class</th>\n",
       "      <th>postal_district</th>\n",
       "    </tr>\n",
       "  </thead>\n",
       "  <tbody>\n",
       "    <tr>\n",
       "      <th>608</th>\n",
       "      <td>PIECE FUTURE PTE. LTD.</td>\n",
       "      <td>analyst</td>\n",
       "      <td>JOB-2019-0074101</td>\n",
       "      <td>Shanghai, China</td>\n",
       "      <td>Full Time</td>\n",
       "      <td>Executive</td>\n",
       "      <td>Engineering, Professional Services</td>\n",
       "      <td>$2,800to$5,000</td>\n",
       "      <td>Monthly</td>\n",
       "      <td>We are looking for passionate and motivated En...</td>\n",
       "      <td>Min. Bachelor’s / Master’s Degree in electric...</td>\n",
       "      <td>2800.0</td>\n",
       "      <td>5000.0</td>\n",
       "      <td>3900.0</td>\n",
       "      <td>0</td>\n",
       "      <td>China</td>\n",
       "    </tr>\n",
       "  </tbody>\n",
       "</table>\n",
       "</div>"
      ],
      "text/plain": [
       "                    company position              job_id          location  \\\n",
       "608  PIECE FUTURE PTE. LTD.  analyst   JOB-2019-0074101   Shanghai, China    \n",
       "\n",
       "    employment_type  job_level                        job_category  \\\n",
       "608       Full Time  Executive  Engineering, Professional Services   \n",
       "\n",
       "             salary salary_type  \\\n",
       "608  $2,800to$5,000     Monthly   \n",
       "\n",
       "                                   role_responsibility  \\\n",
       "608  We are looking for passionate and motivated En...   \n",
       "\n",
       "                                           requirement  salary_lower  \\\n",
       "608   Min. Bachelor’s / Master’s Degree in electric...        2800.0   \n",
       "\n",
       "     salary_upper  mean_salary  mean_salary_class postal_district  \n",
       "608        5000.0       3900.0                  0          China   "
      ]
     },
     "execution_count": 88,
     "metadata": {},
     "output_type": "execute_result"
    }
   ],
   "source": [
    "df[df['postal_district'].str.contains('China')]"
   ]
  },
  {
   "cell_type": "code",
   "execution_count": 89,
   "metadata": {},
   "outputs": [],
   "source": [
    "# Remove row as it is an overseas job posting\n",
    "\n",
    "df = df.drop(608, axis = 0)"
   ]
  },
  {
   "cell_type": "code",
   "execution_count": 90,
   "metadata": {
    "scrolled": true
   },
   "outputs": [
    {
     "data": {
      "text/plain": [
       "district01    376\n",
       "nan           223\n",
       "district05    111\n",
       "district22     57\n",
       "district14     56\n",
       "district02     48\n",
       "district07     44\n",
       "district16     36\n",
       "district09     31\n",
       "district06     28\n",
       "Name: postal_district, dtype: int64"
      ]
     },
     "execution_count": 90,
     "metadata": {},
     "output_type": "execute_result"
    }
   ],
   "source": [
    "df['postal_district'].value_counts()[:10]"
   ]
  },
  {
   "cell_type": "code",
   "execution_count": 91,
   "metadata": {},
   "outputs": [
    {
     "data": {
      "text/plain": [
       "Text(0.5, 1, 'Mean Salary by Postal District')"
      ]
     },
     "execution_count": 91,
     "metadata": {},
     "output_type": "execute_result"
    },
    {
     "data": {
      "image/png": "[encoded data removed]",
      "text/plain": [
       "<Figure size 576x576 with 1 Axes>"
      ]
     },
     "metadata": {
      "needs_background": "light"
     },
     "output_type": "display_data"
    }
   ],
   "source": [
    "ax = plt.subplots(figsize = (8,8))\n",
    "ax = sns.boxplot(x = df['mean_salary'], y = df['postal_district'])\n",
    "ax.set_ylabel('')\n",
    "ax.set_title('Mean Salary by Postal District', y = 1) "
   ]
  },
  {
   "cell_type": "code",
   "execution_count": 92,
   "metadata": {},
   "outputs": [
    {
     "data": {
      "text/plain": [
       "Full Time                         385\n",
       "Permanent                         293\n",
       "Permanent, Full Time              165\n",
       "Contract                          128\n",
       "Contract, Full Time               122\n",
       "Permanent, Contract                28\n",
       "Permanent, Contract, Full Time     10\n",
       "Full Time, Internship               4\n",
       "Temporary                           3\n",
       "Part Time, Contract                 3\n",
       "Permanent, Flexi work               2\n",
       "Contract, Internship                1\n",
       "Temporary, Contract, Full Time      1\n",
       "Internship                          1\n",
       "Name: employment_type, dtype: int64"
      ]
     },
     "execution_count": 92,
     "metadata": {},
     "output_type": "execute_result"
    }
   ],
   "source": [
    "# Check employment_type\n",
    "\n",
    "df['employment_type'].value_counts()"
   ]
  },
  {
   "cell_type": "code",
   "execution_count": 93,
   "metadata": {},
   "outputs": [],
   "source": [
    "df['employment_type'].replace('Permanent, Full Time', 'Permanent', inplace = True)\n",
    "df['employment_type'].replace('Contract, Full Time', 'Contract', inplace = True)\n",
    "df['employment_type'].replace('Permanent, Contract, Full Time', 'Permanent, Contract', inplace = True)\n",
    "df['employment_type'].replace('Full Time, Internship', 'Internship', inplace = True)\n",
    "df['employment_type'].replace('Part Time, Contract', 'Part Time', inplace = True)\n",
    "df['employment_type'].replace('Permanent, Flexi work', 'Permanent', inplace = True)\n",
    "df['employment_type'].replace('Contract, Internship', 'Internship', inplace = True)\n",
    "df['employment_type'].replace('Temporary, Contract, Full Time', 'Contract', inplace = True)"
   ]
  },
  {
   "cell_type": "code",
   "execution_count": 94,
   "metadata": {},
   "outputs": [
    {
     "data": {
      "text/plain": [
       "Permanent              460\n",
       "Full Time              385\n",
       "Contract               251\n",
       "Permanent, Contract     38\n",
       "Internship               6\n",
       "Part Time                3\n",
       "Temporary                3\n",
       "Name: employment_type, dtype: int64"
      ]
     },
     "execution_count": 94,
     "metadata": {},
     "output_type": "execute_result"
    }
   ],
   "source": [
    "df['employment_type'].value_counts()"
   ]
  },
  {
   "cell_type": "code",
   "execution_count": 95,
   "metadata": {},
   "outputs": [
    {
     "data": {
      "text/plain": [
       "Text(0.5, 1, 'Mean Salary by Employment Type')"
      ]
     },
     "execution_count": 95,
     "metadata": {},
     "output_type": "execute_result"
    },
    {
     "data": {
      "image/png": "[encoded data removed]",
      "text/plain": [
       "<Figure size 432x288 with 1 Axes>"
      ]
     },
     "metadata": {
      "needs_background": "light"
     },
     "output_type": "display_data"
    }
   ],
   "source": [
    "ax = sns.boxplot(x = df['mean_salary'], y = df['employment_type'])\n",
    "ax.set_ylabel('')\n",
    "ax.set_title('Mean Salary by Employment Type', y = 1) "
   ]
  },
  {
   "cell_type": "code",
   "execution_count": 96,
   "metadata": {
    "scrolled": true
   },
   "outputs": [
    {
     "data": {
      "text/plain": [
       "Professional               347\n",
       "Executive                  223\n",
       "Senior Executive           135\n",
       "Middle Management           87\n",
       "Manager                     68\n",
       "Junior Executive            51\n",
       "Senior Management           36\n",
       "Fresh/entry level           34\n",
       "Professional, Executive     33\n",
       "Non-executive               30\n",
       "Name: job_level, dtype: int64"
      ]
     },
     "execution_count": 96,
     "metadata": {},
     "output_type": "execute_result"
    }
   ],
   "source": [
    "# Check job_level\n",
    "\n",
    "df['job_level'].value_counts()[:10]"
   ]
  },
  {
   "cell_type": "code",
   "execution_count": 97,
   "metadata": {},
   "outputs": [],
   "source": [
    "job_level = [i.split(',',1)[0] for i in df['job_level']]\n",
    "df['job_level'] = job_level"
   ]
  },
  {
   "cell_type": "code",
   "execution_count": 98,
   "metadata": {},
   "outputs": [
    {
     "data": {
      "text/plain": [
       "Professional         408\n",
       "Executive            242\n",
       "Senior Executive     135\n",
       "Middle Management    106\n",
       "Manager               81\n",
       "Junior Executive      53\n",
       "Fresh/entry level     47\n",
       "Senior Management     43\n",
       "Non-executive         31\n",
       "Name: job_level, dtype: int64"
      ]
     },
     "execution_count": 98,
     "metadata": {},
     "output_type": "execute_result"
    }
   ],
   "source": [
    "df['job_level'].value_counts()"
   ]
  },
  {
   "cell_type": "code",
   "execution_count": 99,
   "metadata": {},
   "outputs": [
    {
     "data": {
      "text/plain": [
       "Text(0.5, 1, 'Mean Salary by Employment Type')"
      ]
     },
     "execution_count": 99,
     "metadata": {},
     "output_type": "execute_result"
    },
    {
     "data": {
      "image/png": "[encoded data removed]",
      "text/plain": [
       "<Figure size 432x288 with 1 Axes>"
      ]
     },
     "metadata": {
      "needs_background": "light"
     },
     "output_type": "display_data"
    }
   ],
   "source": [
    "ax = sns.boxplot(x = df['mean_salary'], y = df['job_level'])\n",
    "ax.set_ylabel('')\n",
    "ax.set_title('Mean Salary by Employment Type', y = 1) "
   ]
  },
  {
   "cell_type": "code",
   "execution_count": 100,
   "metadata": {},
   "outputs": [
    {
     "data": {
      "text/plain": [
       "Information Technology                            594\n",
       "Banking and Finance                                93\n",
       "Engineering                                        84\n",
       "Sciences / Laboratory / R&D                        50\n",
       "Information Technology, Public / Civil Service     41\n",
       "Banking and Finance, Information Technology        31\n",
       "Others                                             30\n",
       "Engineering, Sciences / Laboratory / R&D           22\n",
       "Consulting                                         21\n",
       "Accounting / Auditing / Taxation                   16\n",
       "Name: job_category, dtype: int64"
      ]
     },
     "execution_count": 100,
     "metadata": {},
     "output_type": "execute_result"
    }
   ],
   "source": [
    "# Check job_category\n",
    "\n",
    "df['job_category'].value_counts()[:10]"
   ]
  },
  {
   "cell_type": "code",
   "execution_count": 101,
   "metadata": {},
   "outputs": [],
   "source": [
    "job_category = [i.split(',',1)[0] for i in df['job_category']]\n",
    "df['job_category'] = job_category"
   ]
  },
  {
   "cell_type": "code",
   "execution_count": 102,
   "metadata": {},
   "outputs": [
    {
     "data": {
      "text/plain": [
       "Information Technology              653\n",
       "Engineering                         135\n",
       "Banking and Finance                 130\n",
       "Sciences / Laboratory / R&D          50\n",
       "Consulting                           40\n",
       "Others                               31\n",
       "Accounting / Auditing / Taxation     21\n",
       "Education and Training               15\n",
       "Logistics / Supply Chain             10\n",
       "Advertising / Media                  10\n",
       "Name: job_category, dtype: int64"
      ]
     },
     "execution_count": 102,
     "metadata": {},
     "output_type": "execute_result"
    }
   ],
   "source": [
    "df['job_category'].value_counts()[:10]"
   ]
  },
  {
   "cell_type": "code",
   "execution_count": 103,
   "metadata": {},
   "outputs": [],
   "source": [
    "# Check role_responsibility and requirement\n",
    "\n",
    "df['role_responsibility_requirement'] = df['role_responsibility'] + df['requirement'].fillna('')"
   ]
  },
  {
   "cell_type": "markdown",
   "metadata": {},
   "source": [
    "Remove stemming as scores became worse with stemming\n",
    "\n",
    "from nltk.stem.snowball import SnowballStemmer\n",
    "stemmer = SnowballStemmer('english')\n",
    "\n",
    "def stem_text(text):\n",
    "    tokens = text.split()\n",
    "    stemmed_tokens = [stemmer.stem(token) for token in tokens]\n",
    "    return ' '.join(stemmed_tokens)\n",
    "\n",
    "df['role_responsibility_requirement'] = df['role_responsibility_requirement'].apply(stem_text)"
   ]
  },
  {
   "cell_type": "code",
   "execution_count": 104,
   "metadata": {
    "scrolled": true
   },
   "outputs": [
    {
     "data": {
      "text/html": [
       "<div>\n",
       "<style scoped>\n",
       "    .dataframe tbody tr th:only-of-type {\n",
       "        vertical-align: middle;\n",
       "    }\n",
       "\n",
       "    .dataframe tbody tr th {\n",
       "        vertical-align: top;\n",
       "    }\n",
       "\n",
       "    .dataframe thead th {\n",
       "        text-align: right;\n",
       "    }\n",
       "</style>\n",
       "<table border=\"1\" class=\"dataframe\">\n",
       "  <thead>\n",
       "    <tr style=\"text-align: right;\">\n",
       "      <th></th>\n",
       "      <th>mean_salary_class</th>\n",
       "      <th>role_responsibility_requirement</th>\n",
       "      <th>position_analyst</th>\n",
       "      <th>position_architect</th>\n",
       "      <th>position_consultant</th>\n",
       "      <th>position_developer</th>\n",
       "      <th>position_engineer</th>\n",
       "      <th>position_executive</th>\n",
       "      <th>position_manager</th>\n",
       "      <th>position_others</th>\n",
       "      <th>...</th>\n",
       "      <th>postal_district_district18</th>\n",
       "      <th>postal_district_district19</th>\n",
       "      <th>postal_district_district20</th>\n",
       "      <th>postal_district_district21</th>\n",
       "      <th>postal_district_district22</th>\n",
       "      <th>postal_district_district23</th>\n",
       "      <th>postal_district_district25</th>\n",
       "      <th>postal_district_district27</th>\n",
       "      <th>postal_district_district28</th>\n",
       "      <th>postal_district_nan</th>\n",
       "    </tr>\n",
       "  </thead>\n",
       "  <tbody>\n",
       "    <tr>\n",
       "      <th>0</th>\n",
       "      <td>0</td>\n",
       "      <td>Post-doctoral Research Fellow (Data Analytics)...</td>\n",
       "      <td>0</td>\n",
       "      <td>0</td>\n",
       "      <td>0</td>\n",
       "      <td>0</td>\n",
       "      <td>0</td>\n",
       "      <td>0</td>\n",
       "      <td>0</td>\n",
       "      <td>0</td>\n",
       "      <td>...</td>\n",
       "      <td>0</td>\n",
       "      <td>0</td>\n",
       "      <td>0</td>\n",
       "      <td>0</td>\n",
       "      <td>0</td>\n",
       "      <td>0</td>\n",
       "      <td>0</td>\n",
       "      <td>0</td>\n",
       "      <td>0</td>\n",
       "      <td>0</td>\n",
       "    </tr>\n",
       "    <tr>\n",
       "      <th>1</th>\n",
       "      <td>1</td>\n",
       "      <td>Build models with assistance and perform expl...</td>\n",
       "      <td>0</td>\n",
       "      <td>0</td>\n",
       "      <td>0</td>\n",
       "      <td>0</td>\n",
       "      <td>0</td>\n",
       "      <td>0</td>\n",
       "      <td>0</td>\n",
       "      <td>0</td>\n",
       "      <td>...</td>\n",
       "      <td>0</td>\n",
       "      <td>0</td>\n",
       "      <td>0</td>\n",
       "      <td>0</td>\n",
       "      <td>0</td>\n",
       "      <td>0</td>\n",
       "      <td>0</td>\n",
       "      <td>0</td>\n",
       "      <td>0</td>\n",
       "      <td>0</td>\n",
       "    </tr>\n",
       "    <tr>\n",
       "      <th>2</th>\n",
       "      <td>1</td>\n",
       "      <td>Our vision is to build a unified Commercial Di...</td>\n",
       "      <td>0</td>\n",
       "      <td>0</td>\n",
       "      <td>0</td>\n",
       "      <td>0</td>\n",
       "      <td>0</td>\n",
       "      <td>0</td>\n",
       "      <td>0</td>\n",
       "      <td>0</td>\n",
       "      <td>...</td>\n",
       "      <td>0</td>\n",
       "      <td>0</td>\n",
       "      <td>0</td>\n",
       "      <td>0</td>\n",
       "      <td>0</td>\n",
       "      <td>0</td>\n",
       "      <td>0</td>\n",
       "      <td>0</td>\n",
       "      <td>0</td>\n",
       "      <td>0</td>\n",
       "    </tr>\n",
       "    <tr>\n",
       "      <th>3</th>\n",
       "      <td>1</td>\n",
       "      <td>Problem solver with curious mindset with a hi...</td>\n",
       "      <td>0</td>\n",
       "      <td>0</td>\n",
       "      <td>0</td>\n",
       "      <td>0</td>\n",
       "      <td>0</td>\n",
       "      <td>0</td>\n",
       "      <td>0</td>\n",
       "      <td>0</td>\n",
       "      <td>...</td>\n",
       "      <td>0</td>\n",
       "      <td>0</td>\n",
       "      <td>0</td>\n",
       "      <td>0</td>\n",
       "      <td>0</td>\n",
       "      <td>0</td>\n",
       "      <td>0</td>\n",
       "      <td>0</td>\n",
       "      <td>0</td>\n",
       "      <td>0</td>\n",
       "    </tr>\n",
       "    <tr>\n",
       "      <th>4</th>\n",
       "      <td>1</td>\n",
       "      <td>As a Data scientist, you play a key role to so...</td>\n",
       "      <td>0</td>\n",
       "      <td>0</td>\n",
       "      <td>0</td>\n",
       "      <td>0</td>\n",
       "      <td>0</td>\n",
       "      <td>0</td>\n",
       "      <td>0</td>\n",
       "      <td>0</td>\n",
       "      <td>...</td>\n",
       "      <td>0</td>\n",
       "      <td>0</td>\n",
       "      <td>0</td>\n",
       "      <td>0</td>\n",
       "      <td>0</td>\n",
       "      <td>0</td>\n",
       "      <td>0</td>\n",
       "      <td>0</td>\n",
       "      <td>0</td>\n",
       "      <td>1</td>\n",
       "    </tr>\n",
       "  </tbody>\n",
       "</table>\n",
       "<p>5 rows × 78 columns</p>\n",
       "</div>"
      ],
      "text/plain": [
       "   mean_salary_class                    role_responsibility_requirement  \\\n",
       "0                  0  Post-doctoral Research Fellow (Data Analytics)...   \n",
       "1                  1   Build models with assistance and perform expl...   \n",
       "2                  1  Our vision is to build a unified Commercial Di...   \n",
       "3                  1   Problem solver with curious mindset with a hi...   \n",
       "4                  1  As a Data scientist, you play a key role to so...   \n",
       "\n",
       "   position_analyst  position_architect  position_consultant  \\\n",
       "0                 0                   0                    0   \n",
       "1                 0                   0                    0   \n",
       "2                 0                   0                    0   \n",
       "3                 0                   0                    0   \n",
       "4                 0                   0                    0   \n",
       "\n",
       "   position_developer  position_engineer  position_executive  \\\n",
       "0                   0                  0                   0   \n",
       "1                   0                  0                   0   \n",
       "2                   0                  0                   0   \n",
       "3                   0                  0                   0   \n",
       "4                   0                  0                   0   \n",
       "\n",
       "   position_manager  position_others         ...           \\\n",
       "0                 0                0         ...            \n",
       "1                 0                0         ...            \n",
       "2                 0                0         ...            \n",
       "3                 0                0         ...            \n",
       "4                 0                0         ...            \n",
       "\n",
       "   postal_district_district18  postal_district_district19  \\\n",
       "0                           0                           0   \n",
       "1                           0                           0   \n",
       "2                           0                           0   \n",
       "3                           0                           0   \n",
       "4                           0                           0   \n",
       "\n",
       "   postal_district_district20  postal_district_district21  \\\n",
       "0                           0                           0   \n",
       "1                           0                           0   \n",
       "2                           0                           0   \n",
       "3                           0                           0   \n",
       "4                           0                           0   \n",
       "\n",
       "   postal_district_district22  postal_district_district23  \\\n",
       "0                           0                           0   \n",
       "1                           0                           0   \n",
       "2                           0                           0   \n",
       "3                           0                           0   \n",
       "4                           0                           0   \n",
       "\n",
       "   postal_district_district25  postal_district_district27  \\\n",
       "0                           0                           0   \n",
       "1                           0                           0   \n",
       "2                           0                           0   \n",
       "3                           0                           0   \n",
       "4                           0                           0   \n",
       "\n",
       "   postal_district_district28  postal_district_nan  \n",
       "0                           0                    0  \n",
       "1                           0                    0  \n",
       "2                           0                    0  \n",
       "3                           0                    0  \n",
       "4                           0                    1  \n",
       "\n",
       "[5 rows x 78 columns]"
      ]
     },
     "execution_count": 104,
     "metadata": {},
     "output_type": "execute_result"
    }
   ],
   "source": [
    "dummy = pd.get_dummies(df[['position','employment_type','job_level','job_category',\n",
    "                          'postal_district']], drop_first = True)\n",
    "\n",
    "data = df[['mean_salary_class','role_responsibility_requirement']]\n",
    "data = pd.concat([data, dummy], axis = 1)\n",
    "data.head()"
   ]
  },
  {
   "cell_type": "code",
   "execution_count": 105,
   "metadata": {},
   "outputs": [],
   "source": [
    "X = data.drop(['mean_salary_class'], axis = 1)\n",
    "y = data['mean_salary_class']"
   ]
  },
  {
   "cell_type": "code",
   "execution_count": 106,
   "metadata": {
    "scrolled": true
   },
   "outputs": [],
   "source": [
    "from sklearn.model_selection import train_test_split\n",
    "\n",
    "X_train, X_test, y_train, y_test = train_test_split(X, y, train_size = 0.7, random_state = 42)"
   ]
  },
  {
   "cell_type": "code",
   "execution_count": 107,
   "metadata": {},
   "outputs": [],
   "source": [
    "from nltk.corpus import stopwords \n",
    "\n",
    "stop = stopwords.words('english')\n",
    "stop += ['data','team','work','development','support','working','requirements','strong',\n",
    "        'job','description','applying','tinto','built','developing','net','ea','licence',\n",
    "        'mandatory','derivatives','must','expect','file','responsibilities','accordingly',\n",
    "        'software']"
   ]
  },
  {
   "cell_type": "code",
   "execution_count": 108,
   "metadata": {
    "scrolled": true
   },
   "outputs": [],
   "source": [
    "# Use CountVectorizer as TfidfVectorizer produced worse results\n",
    "\n",
    "from sklearn.feature_extraction.text import CountVectorizer\n",
    "\n",
    "cvect = CountVectorizer(stop_words = stop, ngram_range = (1,3))\n",
    "cvect_train = cvect.fit_transform(X_train['role_responsibility_requirement'])\n",
    "cvect_test = cvect.transform(X_test['role_responsibility_requirement'])"
   ]
  },
  {
   "cell_type": "code",
   "execution_count": 109,
   "metadata": {},
   "outputs": [],
   "source": [
    "def get_freq_words(sparse_counts, columns):\n",
    "    word_counts = np.asarray(cvect_train.sum(axis = 0)).reshape(-1)\n",
    "    largest_count_indices = word_counts.argsort()[::-1]\n",
    "    freq_words = pd.Series(word_counts[largest_count_indices], \n",
    "                           index = columns[largest_count_indices])\n",
    "    return freq_words"
   ]
  },
  {
   "cell_type": "code",
   "execution_count": 110,
   "metadata": {},
   "outputs": [
    {
     "data": {
      "text/plain": [
       "experience       2805\n",
       "business         2230\n",
       "skills           1330\n",
       "management       1038\n",
       "project           957\n",
       "knowledge         948\n",
       "technical         752\n",
       "ability           744\n",
       "design            739\n",
       "learning          705\n",
       "solutions         685\n",
       "good              679\n",
       "years             670\n",
       "analysis          660\n",
       "develop           655\n",
       "technology        630\n",
       "systems           618\n",
       "sql               576\n",
       "system            568\n",
       "communication     528\n",
       "dtype: int64"
      ]
     },
     "execution_count": 110,
     "metadata": {},
     "output_type": "execute_result"
    }
   ],
   "source": [
    "freq_words = get_freq_words(cvect_train, np.array(cvect.get_feature_names()))\n",
    "freq_words[:20]"
   ]
  },
  {
   "cell_type": "code",
   "execution_count": 111,
   "metadata": {},
   "outputs": [],
   "source": [
    "cvect_train_df = pd.DataFrame(cvect_train.todense(), columns = cvect.get_feature_names())\n",
    "cvect_test_df = pd.DataFrame(cvect_test.todense(), columns = cvect.get_feature_names())"
   ]
  },
  {
   "cell_type": "code",
   "execution_count": 112,
   "metadata": {
    "scrolled": true
   },
   "outputs": [],
   "source": [
    "X_train.drop(['role_responsibility_requirement'], axis = 1, inplace = True)\n",
    "X_test.drop(['role_responsibility_requirement'], axis = 1, inplace = True)"
   ]
  },
  {
   "cell_type": "code",
   "execution_count": 113,
   "metadata": {},
   "outputs": [],
   "source": [
    "X_train.reset_index(drop = True, inplace = True)\n",
    "X_test.reset_index(drop = True, inplace = True)"
   ]
  },
  {
   "cell_type": "code",
   "execution_count": 114,
   "metadata": {},
   "outputs": [],
   "source": [
    "cvect_X_train = pd.concat([X_train, cvect_train_df], axis = 1)\n",
    "cvect_X_test = pd.concat([X_test, cvect_test_df], axis = 1)"
   ]
  },
  {
   "cell_type": "code",
   "execution_count": 115,
   "metadata": {},
   "outputs": [
    {
     "data": {
      "text/plain": [
       "((802, 197362), (344, 197362), (802,), (344,))"
      ]
     },
     "execution_count": 115,
     "metadata": {},
     "output_type": "execute_result"
    }
   ],
   "source": [
    "cvect_X_train.shape, cvect_X_test.shape, y_train.shape, y_test.shape"
   ]
  },
  {
   "cell_type": "code",
   "execution_count": 116,
   "metadata": {},
   "outputs": [
    {
     "name": "stderr",
     "output_type": "stream",
     "text": [
      "/anaconda3/lib/python3.7/site-packages/sklearn/linear_model/logistic.py:433: FutureWarning: Default solver will be changed to 'lbfgs' in 0.22. Specify a solver to silence this warning.\n",
      "  FutureWarning)\n",
      "/anaconda3/lib/python3.7/site-packages/sklearn/linear_model/logistic.py:433: FutureWarning: Default solver will be changed to 'lbfgs' in 0.22. Specify a solver to silence this warning.\n",
      "  FutureWarning)\n",
      "/anaconda3/lib/python3.7/site-packages/sklearn/linear_model/logistic.py:433: FutureWarning: Default solver will be changed to 'lbfgs' in 0.22. Specify a solver to silence this warning.\n",
      "  FutureWarning)\n",
      "/anaconda3/lib/python3.7/site-packages/sklearn/linear_model/logistic.py:433: FutureWarning: Default solver will be changed to 'lbfgs' in 0.22. Specify a solver to silence this warning.\n",
      "  FutureWarning)\n",
      "/anaconda3/lib/python3.7/site-packages/sklearn/linear_model/logistic.py:433: FutureWarning: Default solver will be changed to 'lbfgs' in 0.22. Specify a solver to silence this warning.\n",
      "  FutureWarning)\n"
     ]
    },
    {
     "name": "stdout",
     "output_type": "stream",
     "text": [
      "Roc-auc scores: [0.82073171 0.82309736 0.83731833 0.84841381 0.86396312]\n",
      "Mean roc-auc score: 0.8387048662329099\n",
      "Standard deviation of roc-auc scores: 0.016129440343460765\n"
     ]
    }
   ],
   "source": [
    "# Try logistic regression\n",
    "\n",
    "from sklearn.linear_model import LogisticRegression\n",
    "from sklearn.model_selection import cross_val_score\n",
    "\n",
    "lr = LogisticRegression()\n",
    "cv_scores = cross_val_score(lr, cvect_X_train, y_train, cv = 5, scoring = 'roc_auc')\n",
    "\n",
    "print('Roc-auc scores:', cv_scores)\n",
    "print('Mean roc-auc score:', np.mean(cv_scores))\n",
    "print('Standard deviation of roc-auc scores:', np.std(cv_scores))"
   ]
  },
  {
   "cell_type": "code",
   "execution_count": 129,
   "metadata": {},
   "outputs": [
    {
     "name": "stdout",
     "output_type": "stream",
     "text": [
      "Best roc-auc score: 0.8438425069985817\n"
     ]
    }
   ],
   "source": [
    "from sklearn.model_selection import GridSearchCV\n",
    "\n",
    "lr_parameter = {'penalty' : ['l1', 'l2'], \n",
    "                'C' : np.linspace(1, 100, 10),\n",
    "                'solver' : ['liblinear']}\n",
    "\n",
    "lr_gridsearch = GridSearchCV(lr, lr_parameter, cv = 5, scoring = 'roc_auc')\n",
    "lr_gridsearch.fit(cvect_X_train, y_train)\n",
    "gs_score = lr_gridsearch.best_score_\n",
    "\n",
    "print('Best roc-auc score:', gs_score)"
   ]
  },
  {
   "cell_type": "code",
   "execution_count": 130,
   "metadata": {},
   "outputs": [
    {
     "name": "stdout",
     "output_type": "stream",
     "text": [
      "Best parameters: {'C': 89.0, 'penalty': 'l1', 'solver': 'liblinear'}\n"
     ]
    }
   ],
   "source": [
    "parameters = lr_gridsearch.best_params_\n",
    "\n",
    "print('Best parameters:', parameters)"
   ]
  },
  {
   "cell_type": "code",
   "execution_count": 117,
   "metadata": {},
   "outputs": [
    {
     "name": "stdout",
     "output_type": "stream",
     "text": [
      "Roc-auc scores: [0.85289634 0.82090952 0.83528676 0.82700422 0.85302391]\n",
      "Mean roc-auc score: 0.8378241503054975\n",
      "Standard deviation of roc-auc scores: 0.013174351542478889\n"
     ]
    }
   ],
   "source": [
    "best_lr = LogisticRegression(penalty = 'l1', C = 89, solver = 'liblinear')\n",
    "cv_scores = cross_val_score(best_lr, cvect_X_train, y_train, cv = 5, scoring = 'roc_auc')\n",
    "\n",
    "print('Roc-auc scores:', cv_scores)\n",
    "print('Mean roc-auc score:', np.mean(cv_scores))\n",
    "print('Standard deviation of roc-auc scores:', np.std(cv_scores))"
   ]
  },
  {
   "cell_type": "code",
   "execution_count": 118,
   "metadata": {},
   "outputs": [
    {
     "name": "stdout",
     "output_type": "stream",
     "text": [
      "Roc-auc score: 0.7981325484623973\n"
     ]
    }
   ],
   "source": [
    "from sklearn.metrics import roc_auc_score\n",
    "\n",
    "best_lr.fit(cvect_X_train, y_train)\n",
    "y_pred_prob_lr = best_lr.predict_proba(cvect_X_test)\n",
    "score = roc_auc_score(y_test, y_pred_prob_lr[:,1])\n",
    "\n",
    "print('Roc-auc score:',score)"
   ]
  },
  {
   "cell_type": "code",
   "execution_count": 119,
   "metadata": {},
   "outputs": [
    {
     "data": {
      "image/png": "[encoded data removed]",
      "text/plain": [
       "<Figure size 432x432 with 1 Axes>"
      ]
     },
     "metadata": {
      "image/png": {
       "height": 386,
       "width": 387
      },
      "needs_background": "light"
     },
     "output_type": "display_data"
    }
   ],
   "source": [
    "from sklearn.metrics import roc_curve, auc\n",
    "%matplotlib inline\n",
    "%config InlineBackend.figure_format = 'retina'\n",
    "\n",
    "fpr, tpr, _ = roc_curve(y_test, y_pred_prob_lr[:,1])\n",
    "roc_auc = auc(fpr, tpr)\n",
    "\n",
    "plt.figure(figsize = [6,6])\n",
    "plt.plot(fpr, tpr, label = 'ROC Curve (area = %0.2f)' % roc_auc, linewidth = 2)\n",
    "plt.plot([0, 1], [0, 1], 'k--', linewidth = 2)\n",
    "plt.xlim([-0.05, 1.05])\n",
    "plt.ylim([-0.05, 1.05])\n",
    "plt.xlabel('False Positive Rate')\n",
    "plt.ylabel('True Positive Rate')\n",
    "plt.title('Receiver Operating Characteristic: Is High Salary')\n",
    "plt.legend(loc = \"lower right\")\n",
    "plt.show()"
   ]
  },
  {
   "cell_type": "code",
   "execution_count": 120,
   "metadata": {},
   "outputs": [
    {
     "name": "stdout",
     "output_type": "stream",
     "text": [
      "              precision    recall  f1-score   support\n",
      "\n",
      "           0       0.74      0.76      0.75       167\n",
      "           1       0.77      0.75      0.76       177\n",
      "\n",
      "   micro avg       0.75      0.75      0.75       344\n",
      "   macro avg       0.75      0.75      0.75       344\n",
      "weighted avg       0.75      0.75      0.75       344\n",
      "\n"
     ]
    }
   ],
   "source": [
    "from sklearn.metrics import classification_report\n",
    "\n",
    "y_pred_lr = best_lr.predict(cvect_X_test)\n",
    "\n",
    "print(classification_report(y_test, y_pred_lr))"
   ]
  },
  {
   "cell_type": "code",
   "execution_count": 121,
   "metadata": {},
   "outputs": [
    {
     "data": {
      "text/html": [
       "<div>\n",
       "<style scoped>\n",
       "    .dataframe tbody tr th:only-of-type {\n",
       "        vertical-align: middle;\n",
       "    }\n",
       "\n",
       "    .dataframe tbody tr th {\n",
       "        vertical-align: top;\n",
       "    }\n",
       "\n",
       "    .dataframe thead th {\n",
       "        text-align: right;\n",
       "    }\n",
       "</style>\n",
       "<table border=\"1\" class=\"dataframe\">\n",
       "  <thead>\n",
       "    <tr style=\"text-align: right;\">\n",
       "      <th></th>\n",
       "      <th>predicted_low_salary</th>\n",
       "      <th>predicted_high_salary</th>\n",
       "    </tr>\n",
       "  </thead>\n",
       "  <tbody>\n",
       "    <tr>\n",
       "      <th>is_low_salary</th>\n",
       "      <td>127</td>\n",
       "      <td>40</td>\n",
       "    </tr>\n",
       "    <tr>\n",
       "      <th>is_high_salary</th>\n",
       "      <td>45</td>\n",
       "      <td>132</td>\n",
       "    </tr>\n",
       "  </tbody>\n",
       "</table>\n",
       "</div>"
      ],
      "text/plain": [
       "                predicted_low_salary  predicted_high_salary\n",
       "is_low_salary                    127                     40\n",
       "is_high_salary                    45                    132"
      ]
     },
     "execution_count": 121,
     "metadata": {},
     "output_type": "execute_result"
    }
   ],
   "source": [
    "from sklearn.metrics import confusion_matrix\n",
    "\n",
    "conmat = np.array(confusion_matrix(y_test, y_pred_lr, labels = [0,1]))\n",
    "confusion_matrix = pd.DataFrame(conmat, index = ['is_low_salary', 'is_high_salary'],\n",
    "                                columns = ['predicted_low_salary','predicted_high_salary'])\n",
    "confusion_matrix"
   ]
  },
  {
   "cell_type": "code",
   "execution_count": 137,
   "metadata": {},
   "outputs": [
    {
     "name": "stdout",
     "output_type": "stream",
     "text": [
      "Roc-auc scores: [0.79710366 0.83052039 0.79731208 0.8332552  0.8213002 ]\n",
      "Mean roc-auc score: 0.8158983063283516\n",
      "Standard deviation of roc-auc scores: 0.015766636606346335\n"
     ]
    }
   ],
   "source": [
    "# Try naive bayes\n",
    "\n",
    "from sklearn.naive_bayes import MultinomialNB\n",
    "\n",
    "mnb = MultinomialNB()\n",
    "cv_scores = cross_val_score(mnb, cvect_X_train, y_train, cv = 5, scoring = 'roc_auc')\n",
    "\n",
    "print('Roc-auc scores:', cv_scores)\n",
    "print('Mean roc-auc score:', np.mean(cv_scores))\n",
    "print('Standard deviation of roc-auc scores:', np.std(cv_scores))"
   ]
  },
  {
   "cell_type": "code",
   "execution_count": 138,
   "metadata": {},
   "outputs": [
    {
     "name": "stdout",
     "output_type": "stream",
     "text": [
      "Roc-auc scores: [0.68833841 0.667995   0.68713862 0.70596968 0.67698078]\n",
      "Mean roc-auc score: 0.6852844980541929\n",
      "Standard deviation of roc-auc scores: 0.012716285280726224\n"
     ]
    }
   ],
   "source": [
    "# Try knn\n",
    "\n",
    "from sklearn.neighbors import KNeighborsClassifier\n",
    "\n",
    "knn = KNeighborsClassifier()\n",
    "cv_scores = cross_val_score(knn, cvect_X_train, y_train, cv = 5, scoring = 'roc_auc')\n",
    "\n",
    "print('Roc-auc scores:', cv_scores)\n",
    "print('Mean roc-auc score:', np.mean(cv_scores))\n",
    "print('Standard deviation of roc-auc scores:', np.std(cv_scores))"
   ]
  },
  {
   "cell_type": "code",
   "execution_count": 139,
   "metadata": {},
   "outputs": [
    {
     "name": "stderr",
     "output_type": "stream",
     "text": [
      "/anaconda3/lib/python3.7/site-packages/sklearn/ensemble/forest.py:246: FutureWarning: The default value of n_estimators will change from 10 in version 0.20 to 100 in 0.22.\n",
      "  \"10 in version 0.20 to 100 in 0.22.\", FutureWarning)\n",
      "/anaconda3/lib/python3.7/site-packages/sklearn/ensemble/forest.py:246: FutureWarning: The default value of n_estimators will change from 10 in version 0.20 to 100 in 0.22.\n",
      "  \"10 in version 0.20 to 100 in 0.22.\", FutureWarning)\n",
      "/anaconda3/lib/python3.7/site-packages/sklearn/ensemble/forest.py:246: FutureWarning: The default value of n_estimators will change from 10 in version 0.20 to 100 in 0.22.\n",
      "  \"10 in version 0.20 to 100 in 0.22.\", FutureWarning)\n",
      "/anaconda3/lib/python3.7/site-packages/sklearn/ensemble/forest.py:246: FutureWarning: The default value of n_estimators will change from 10 in version 0.20 to 100 in 0.22.\n",
      "  \"10 in version 0.20 to 100 in 0.22.\", FutureWarning)\n",
      "/anaconda3/lib/python3.7/site-packages/sklearn/ensemble/forest.py:246: FutureWarning: The default value of n_estimators will change from 10 in version 0.20 to 100 in 0.22.\n",
      "  \"10 in version 0.20 to 100 in 0.22.\", FutureWarning)\n"
     ]
    },
    {
     "name": "stdout",
     "output_type": "stream",
     "text": [
      "Roc-auc scores: [0.75868902 0.75863416 0.83270824 0.78418503 0.82473824]\n",
      "Mean roc-auc score: 0.7917909381801271\n",
      "Standard deviation of roc-auc scores: 0.031662938397582635\n"
     ]
    }
   ],
   "source": [
    "# Try Random Forest\n",
    "\n",
    "from sklearn.ensemble import RandomForestClassifier\n",
    "\n",
    "rf = RandomForestClassifier()\n",
    "cv_scores = cross_val_score(rf, cvect_X_train, y_train, cv = 5, scoring = 'roc_auc')\n",
    "\n",
    "print('Roc-auc scores:', cv_scores)\n",
    "print('Mean roc-auc score:', np.mean(cv_scores))\n",
    "print('Standard deviation of roc-auc scores:', np.std(cv_scores))"
   ]
  },
  {
   "cell_type": "code",
   "execution_count": 136,
   "metadata": {},
   "outputs": [
    {
     "data": {
      "text/html": [
       "<div>\n",
       "<style scoped>\n",
       "    .dataframe tbody tr th:only-of-type {\n",
       "        vertical-align: middle;\n",
       "    }\n",
       "\n",
       "    .dataframe tbody tr th {\n",
       "        vertical-align: top;\n",
       "    }\n",
       "\n",
       "    .dataframe thead th {\n",
       "        text-align: right;\n",
       "    }\n",
       "</style>\n",
       "<table border=\"1\" class=\"dataframe\">\n",
       "  <thead>\n",
       "    <tr style=\"text-align: right;\">\n",
       "      <th></th>\n",
       "      <th>coef</th>\n",
       "      <th>odds ratio</th>\n",
       "    </tr>\n",
       "  </thead>\n",
       "  <tbody>\n",
       "    <tr>\n",
       "      <th>job_level_Senior Executive</th>\n",
       "      <td>5.110839</td>\n",
       "      <td>165.809453</td>\n",
       "    </tr>\n",
       "    <tr>\n",
       "      <th>banking domain</th>\n",
       "      <td>3.383835</td>\n",
       "      <td>29.483613</td>\n",
       "    </tr>\n",
       "    <tr>\n",
       "      <th>technical experience</th>\n",
       "      <td>3.370385</td>\n",
       "      <td>29.089718</td>\n",
       "    </tr>\n",
       "    <tr>\n",
       "      <th>job_level_Manager</th>\n",
       "      <td>3.193613</td>\n",
       "      <td>24.376331</td>\n",
       "    </tr>\n",
       "    <tr>\n",
       "      <th>financial reporting</th>\n",
       "      <td>2.736157</td>\n",
       "      <td>15.427581</td>\n",
       "    </tr>\n",
       "  </tbody>\n",
       "</table>\n",
       "</div>"
      ],
      "text/plain": [
       "                                coef  odds ratio\n",
       "job_level_Senior Executive  5.110839  165.809453\n",
       "banking domain              3.383835   29.483613\n",
       "technical experience        3.370385   29.089718\n",
       "job_level_Manager           3.193613   24.376331\n",
       "financial reporting         2.736157   15.427581"
      ]
     },
     "execution_count": 136,
     "metadata": {},
     "output_type": "execute_result"
    }
   ],
   "source": [
    "# Logistic regression model is selected as it has the highest roc-auc score.\n",
    "\n",
    "best_lr_df = pd.DataFrame(best_lr.coef_, columns = (cvect_X_train.columns)).T\n",
    "best_lr_df.columns = ['coef']\n",
    "best_lr_df['odds ratio'] = best_lr_df['coef'].apply(lambda x : np.exp(x))\n",
    "best_lr_df = best_lr_df.sort_values(by = ['odds ratio'], ascending = False)\n",
    "best_lr_df.head()"
   ]
  },
  {
   "cell_type": "markdown",
   "metadata": {},
   "source": [
    "Top 5 factors that impact salary:\n",
    "Senior executive level jobs are 166 times more likely to get high salary.\n",
    "Jobs in the banking sector are 29 times more likely to get high salary.\n",
    "People with technical experience are 29 times more likely to get high salary.\n",
    "Manager level jobs are 24 times more likely to get high salary.\n",
    "Jobs requiring financial reporting are 15 times more likely to get high salary."
   ]
  },
  {
   "cell_type": "markdown",
   "metadata": {},
   "source": [
    "Question 2: \n",
    "Investigate factors that distinguish analyst from other data jobs"
   ]
  },
  {
   "cell_type": "code",
   "execution_count": 122,
   "metadata": {
    "scrolled": true
   },
   "outputs": [
    {
     "name": "stderr",
     "output_type": "stream",
     "text": [
      "/anaconda3/lib/python3.7/site-packages/ipykernel_launcher.py:3: SettingWithCopyWarning: \n",
      "A value is trying to be set on a copy of a slice from a DataFrame.\n",
      "Try using .loc[row_indexer,col_indexer] = value instead\n",
      "\n",
      "See the caveats in the documentation: http://pandas.pydata.org/pandas-docs/stable/indexing.html#indexing-view-versus-copy\n",
      "  This is separate from the ipykernel package so we can avoid doing imports until\n"
     ]
    }
   ],
   "source": [
    "new_data = df[['position','mean_salary','employment_type','job_level','job_category',\n",
    "               'postal_district','role_responsibility_requirement']]\n",
    "new_data['position'] = new_data['position'].map(lambda x : 1 if x == 'analyst' else 0)"
   ]
  },
  {
   "cell_type": "code",
   "execution_count": 123,
   "metadata": {},
   "outputs": [
    {
     "data": {
      "text/plain": [
       "0    0.667539\n",
       "1    0.332461\n",
       "Name: position, dtype: float64"
      ]
     },
     "execution_count": 123,
     "metadata": {},
     "output_type": "execute_result"
    }
   ],
   "source": [
    "# Baseline\n",
    "\n",
    "new_data['position'].value_counts()/len(new_data)"
   ]
  },
  {
   "cell_type": "code",
   "execution_count": 124,
   "metadata": {},
   "outputs": [],
   "source": [
    "new_dummy = pd.get_dummies(new_data[['employment_type','job_level','job_category',\n",
    "                          'postal_district']], drop_first = True)\n",
    "new_data = pd.concat([new_data, new_dummy], axis = 1)\n",
    "new_data.drop(['employment_type','job_level','job_category','postal_district'], axis = 1,\n",
    "              inplace = True)"
   ]
  },
  {
   "cell_type": "code",
   "execution_count": 125,
   "metadata": {},
   "outputs": [],
   "source": [
    "Xn = new_data.drop(['position'], axis = 1)\n",
    "yn = new_data['position']"
   ]
  },
  {
   "cell_type": "code",
   "execution_count": 126,
   "metadata": {},
   "outputs": [
    {
     "name": "stderr",
     "output_type": "stream",
     "text": [
      "/anaconda3/lib/python3.7/site-packages/sklearn/model_selection/_split.py:2179: FutureWarning: From version 0.21, test_size will always complement train_size unless both are specified.\n",
      "  FutureWarning)\n"
     ]
    }
   ],
   "source": [
    "Xn_train, Xn_test, yn_train, yn_test = train_test_split(Xn, yn, stratify = yn, train_size = 0.7, \n",
    "                                                        random_state = 42)"
   ]
  },
  {
   "cell_type": "code",
   "execution_count": 99,
   "metadata": {},
   "outputs": [],
   "source": [
    "#stop = stopwords.words('english')\n",
    "#stop += ['data','team','work','development','support','working','requirements','strong',\n",
    "#        'analyst','user','requirement','specifications','system','gathering','functional',\n",
    "#        'skills','role','users']"
   ]
  },
  {
   "cell_type": "code",
   "execution_count": 127,
   "metadata": {},
   "outputs": [],
   "source": [
    "vect = CountVectorizer(stop_words = stop, ngram_range = (1,3))\n",
    "vect_train = vect.fit_transform(Xn_train['role_responsibility_requirement'])\n",
    "vect_test = vect.transform(Xn_test['role_responsibility_requirement'])"
   ]
  },
  {
   "cell_type": "code",
   "execution_count": 128,
   "metadata": {},
   "outputs": [],
   "source": [
    "def get_freq_words(sparse_counts, columns):\n",
    "    word_counts = np.asarray(vect_train.sum(axis = 0)).reshape(-1)\n",
    "    largest_count_indices = word_counts.argsort()[::-1]\n",
    "    freq_words = pd.Series(word_counts[largest_count_indices], \n",
    "                           index = columns[largest_count_indices])\n",
    "    return freq_words"
   ]
  },
  {
   "cell_type": "code",
   "execution_count": 129,
   "metadata": {},
   "outputs": [
    {
     "data": {
      "text/plain": [
       "experience    2784\n",
       "business      2370\n",
       "skills        1370\n",
       "management    1037\n",
       "project        974\n",
       "knowledge      960\n",
       "technical      768\n",
       "ability        745\n",
       "design         715\n",
       "years          713\n",
       "learning       705\n",
       "analysis       701\n",
       "good           689\n",
       "solutions      683\n",
       "systems        653\n",
       "develop        641\n",
       "technology     612\n",
       "sql            574\n",
       "system         561\n",
       "science        539\n",
       "dtype: int64"
      ]
     },
     "execution_count": 129,
     "metadata": {},
     "output_type": "execute_result"
    }
   ],
   "source": [
    "freq_words = get_freq_words(vect_train, np.array(vect.get_feature_names()))\n",
    "freq_words[:20]"
   ]
  },
  {
   "cell_type": "code",
   "execution_count": 130,
   "metadata": {},
   "outputs": [],
   "source": [
    "vect_train_df = pd.DataFrame(vect_train.todense(), columns = vect.get_feature_names())\n",
    "vect_test_df = pd.DataFrame(vect_test.todense(), columns = vect.get_feature_names())"
   ]
  },
  {
   "cell_type": "code",
   "execution_count": 131,
   "metadata": {},
   "outputs": [
    {
     "name": "stderr",
     "output_type": "stream",
     "text": [
      "/anaconda3/lib/python3.7/site-packages/pandas/core/frame.py:3697: SettingWithCopyWarning: \n",
      "A value is trying to be set on a copy of a slice from a DataFrame\n",
      "\n",
      "See the caveats in the documentation: http://pandas.pydata.org/pandas-docs/stable/indexing.html#indexing-view-versus-copy\n",
      "  errors=errors)\n"
     ]
    }
   ],
   "source": [
    "Xn_train.drop(['role_responsibility_requirement'], axis = 1, inplace = True)\n",
    "Xn_test.drop(['role_responsibility_requirement'], axis = 1, inplace = True)"
   ]
  },
  {
   "cell_type": "code",
   "execution_count": 132,
   "metadata": {},
   "outputs": [],
   "source": [
    "Xn_train.reset_index(drop = True, inplace = True)\n",
    "Xn_test.reset_index(drop = True, inplace = True)"
   ]
  },
  {
   "cell_type": "code",
   "execution_count": 133,
   "metadata": {},
   "outputs": [],
   "source": [
    "vect_X_train = pd.concat([Xn_train, vect_train_df], axis = 1)\n",
    "vect_X_test = pd.concat([Xn_test, vect_test_df], axis = 1)"
   ]
  },
  {
   "cell_type": "code",
   "execution_count": 134,
   "metadata": {},
   "outputs": [
    {
     "data": {
      "text/plain": [
       "((802, 204703), (344, 204703), (802,), (344,))"
      ]
     },
     "execution_count": 134,
     "metadata": {},
     "output_type": "execute_result"
    }
   ],
   "source": [
    "vect_X_train.shape, vect_X_test.shape, yn_train.shape, yn_test.shape"
   ]
  },
  {
   "cell_type": "code",
   "execution_count": 135,
   "metadata": {},
   "outputs": [],
   "source": [
    "from imblearn.over_sampling import SMOTE\n",
    "\n",
    "smt = SMOTE()\n",
    "smt_vect_X_train, smt_yn_train = smt.fit_sample(vect_X_train, yn_train)"
   ]
  },
  {
   "cell_type": "code",
   "execution_count": 136,
   "metadata": {},
   "outputs": [
    {
     "data": {
      "text/plain": [
       "((1070, 204703), (344, 204703), (1070,), (344,))"
      ]
     },
     "execution_count": 136,
     "metadata": {},
     "output_type": "execute_result"
    }
   ],
   "source": [
    "smt_vect_X_train.shape, vect_X_test.shape, smt_yn_train.shape, yn_test.shape"
   ]
  },
  {
   "cell_type": "code",
   "execution_count": 82,
   "metadata": {},
   "outputs": [],
   "source": [
    "# Try Logistic Regression"
   ]
  },
  {
   "cell_type": "code",
   "execution_count": 106,
   "metadata": {},
   "outputs": [
    {
     "name": "stderr",
     "output_type": "stream",
     "text": [
      "/anaconda3/lib/python3.7/site-packages/sklearn/linear_model/logistic.py:433: FutureWarning: Default solver will be changed to 'lbfgs' in 0.22. Specify a solver to silence this warning.\n",
      "  FutureWarning)\n"
     ]
    },
    {
     "data": {
      "text/plain": [
       "0.8642639206712434"
      ]
     },
     "execution_count": 106,
     "metadata": {},
     "output_type": "execute_result"
    }
   ],
   "source": [
    "lr = LogisticRegression()\n",
    "lr.fit(smt_vect_X_train, smt_yn_train)\n",
    "yn_pred_lr = lr.predict(vect_X_test)\n",
    "roc_auc_score(yn_test, yn_pred_lr)"
   ]
  },
  {
   "cell_type": "code",
   "execution_count": 107,
   "metadata": {},
   "outputs": [],
   "source": [
    "# Try KNN"
   ]
  },
  {
   "cell_type": "code",
   "execution_count": 108,
   "metadata": {},
   "outputs": [
    {
     "data": {
      "text/plain": [
       "0.5839816933638444"
      ]
     },
     "execution_count": 108,
     "metadata": {},
     "output_type": "execute_result"
    }
   ],
   "source": [
    "knn = KNeighborsClassifier()\n",
    "knn.fit(smt_vect_X_train, smt_yn_train)\n",
    "yn_pred_knn = knn.predict(vect_X_test)\n",
    "roc_auc_score(yn_test, yn_pred_knn)"
   ]
  },
  {
   "cell_type": "code",
   "execution_count": 109,
   "metadata": {},
   "outputs": [],
   "source": [
    "# Try Random Forest"
   ]
  },
  {
   "cell_type": "code",
   "execution_count": 110,
   "metadata": {},
   "outputs": [
    {
     "name": "stderr",
     "output_type": "stream",
     "text": [
      "/anaconda3/lib/python3.7/site-packages/sklearn/ensemble/forest.py:246: FutureWarning: The default value of n_estimators will change from 10 in version 0.20 to 100 in 0.22.\n",
      "  \"10 in version 0.20 to 100 in 0.22.\", FutureWarning)\n"
     ]
    },
    {
     "data": {
      "text/plain": [
       "0.7062547673531656"
      ]
     },
     "execution_count": 110,
     "metadata": {},
     "output_type": "execute_result"
    }
   ],
   "source": [
    "rf = RandomForestClassifier()\n",
    "rf.fit(smt_vect_X_train, smt_yn_train)\n",
    "yn_pred_rf = rf.predict(vect_X_test)\n",
    "roc_auc_score(yn_test, yn_pred_rf)"
   ]
  },
  {
   "cell_type": "code",
   "execution_count": 111,
   "metadata": {},
   "outputs": [],
   "source": [
    "# Try SVM"
   ]
  },
  {
   "cell_type": "code",
   "execution_count": 112,
   "metadata": {},
   "outputs": [
    {
     "name": "stderr",
     "output_type": "stream",
     "text": [
      "/anaconda3/lib/python3.7/site-packages/sklearn/svm/base.py:196: FutureWarning: The default value of gamma will change from 'auto' to 'scale' in version 0.22 to account better for unscaled features. Set gamma explicitly to 'auto' or 'scale' to avoid this warning.\n",
      "  \"avoid this warning.\", FutureWarning)\n"
     ]
    },
    {
     "data": {
      "text/plain": [
       "0.5503432494279177"
      ]
     },
     "execution_count": 112,
     "metadata": {},
     "output_type": "execute_result"
    }
   ],
   "source": [
    "svm = SVC()\n",
    "svm.fit(smt_vect_X_train, smt_yn_train)\n",
    "yn_pred_svm = svm.predict(vect_X_test)\n",
    "roc_auc_score(yn_test, yn_pred_svm)"
   ]
  },
  {
   "cell_type": "code",
   "execution_count": 113,
   "metadata": {},
   "outputs": [],
   "source": [
    "# Try Naive Bayes"
   ]
  },
  {
   "cell_type": "code",
   "execution_count": 114,
   "metadata": {},
   "outputs": [
    {
     "data": {
      "text/plain": [
       "0.840465293668955"
      ]
     },
     "execution_count": 114,
     "metadata": {},
     "output_type": "execute_result"
    }
   ],
   "source": [
    "mnb = MultinomialNB()\n",
    "mnb.fit(smt_vect_X_train, smt_yn_train)\n",
    "yn_pred_mnb = mnb.predict(vect_X_test)\n",
    "roc_auc_score(yn_test, yn_pred_mnb)"
   ]
  },
  {
   "cell_type": "code",
   "execution_count": 115,
   "metadata": {},
   "outputs": [],
   "source": [
    "# Try Logistic Regression with GridSearch"
   ]
  },
  {
   "cell_type": "code",
   "execution_count": 116,
   "metadata": {},
   "outputs": [
    {
     "name": "stdout",
     "output_type": "stream",
     "text": [
      "Fitting 5 folds for each of 40 candidates, totalling 200 fits\n"
     ]
    },
    {
     "name": "stderr",
     "output_type": "stream",
     "text": [
      "[Parallel(n_jobs=1)]: Using backend SequentialBackend with 1 concurrent workers.\n",
      "[Parallel(n_jobs=1)]: Done 200 out of 200 | elapsed: 18.1min finished\n"
     ]
    },
    {
     "data": {
      "text/plain": [
       "0.9760328412961831"
      ]
     },
     "execution_count": 116,
     "metadata": {},
     "output_type": "execute_result"
    }
   ],
   "source": [
    "lr_param = {'penalty' : ['l1', 'l2'], \n",
    "            'C' : np.linspace(10,200,20), \n",
    "            'solver' : ['liblinear']}\n",
    "\n",
    "new_lr_gridsearcher = GridSearchCV(LogisticRegression(), lr_param, scoring = 'roc_auc', \n",
    "                                   cv = 5, verbose = 1)\n",
    "new_lr_gridsearcher.fit(smt_vect_X_train, smt_yn_train)\n",
    "new_lr_gridsearcher.best_score_"
   ]
  },
  {
   "cell_type": "code",
   "execution_count": 117,
   "metadata": {},
   "outputs": [],
   "source": [
    "# Try Ensemble"
   ]
  },
  {
   "cell_type": "code",
   "execution_count": 118,
   "metadata": {},
   "outputs": [
    {
     "name": "stderr",
     "output_type": "stream",
     "text": [
      "/anaconda3/lib/python3.7/site-packages/sklearn/linear_model/logistic.py:433: FutureWarning: Default solver will be changed to 'lbfgs' in 0.22. Specify a solver to silence this warning.\n",
      "  FutureWarning)\n",
      "/anaconda3/lib/python3.7/site-packages/sklearn/svm/base.py:196: FutureWarning: The default value of gamma will change from 'auto' to 'scale' in version 0.22 to account better for unscaled features. Set gamma explicitly to 'auto' or 'scale' to avoid this warning.\n",
      "  \"avoid this warning.\", FutureWarning)\n"
     ]
    },
    {
     "data": {
      "text/plain": [
       "0.84023646071701"
      ]
     },
     "execution_count": 118,
     "metadata": {},
     "output_type": "execute_result"
    }
   ],
   "source": [
    "voting = VotingClassifier(estimators = [('lr', lr), ('knn', knn), ('rf', rf), ('svm', svm),\n",
    "                                         ('mnb', mnb)], voting = 'hard')\n",
    "voting.fit(smt_vect_X_train, smt_yn_train)\n",
    "yn_pred_voting = voting.predict(vect_X_test)\n",
    "roc_auc_score(yn_test, yn_pred_voting)"
   ]
  },
  {
   "cell_type": "code",
   "execution_count": 119,
   "metadata": {},
   "outputs": [],
   "source": [
    "# Logistic Regression with GridSearch model is selected"
   ]
  },
  {
   "cell_type": "code",
   "execution_count": 120,
   "metadata": {},
   "outputs": [
    {
     "data": {
      "text/plain": [
       "{'C': 20.0, 'penalty': 'l2', 'solver': 'liblinear'}"
      ]
     },
     "execution_count": 120,
     "metadata": {},
     "output_type": "execute_result"
    }
   ],
   "source": [
    "new_lr_gridsearcher.best_params_"
   ]
  },
  {
   "cell_type": "code",
   "execution_count": 121,
   "metadata": {},
   "outputs": [
    {
     "data": {
      "text/plain": [
       "0.8808139534883721"
      ]
     },
     "execution_count": 121,
     "metadata": {},
     "output_type": "execute_result"
    }
   ],
   "source": [
    "new_best_lr = new_lr_gridsearcher.best_estimator_\n",
    "new_best_lr.score(vect_X_test, yn_test)"
   ]
  },
  {
   "cell_type": "code",
   "execution_count": 122,
   "metadata": {},
   "outputs": [
    {
     "data": {
      "text/html": [
       "<div>\n",
       "<style scoped>\n",
       "    .dataframe tbody tr th:only-of-type {\n",
       "        vertical-align: middle;\n",
       "    }\n",
       "\n",
       "    .dataframe tbody tr th {\n",
       "        vertical-align: top;\n",
       "    }\n",
       "\n",
       "    .dataframe thead th {\n",
       "        text-align: right;\n",
       "    }\n",
       "</style>\n",
       "<table border=\"1\" class=\"dataframe\">\n",
       "  <thead>\n",
       "    <tr style=\"text-align: right;\">\n",
       "      <th></th>\n",
       "      <th>coef</th>\n",
       "      <th>odds ratio</th>\n",
       "    </tr>\n",
       "  </thead>\n",
       "  <tbody>\n",
       "    <tr>\n",
       "      <th>job_level_Professional</th>\n",
       "      <td>0.970158</td>\n",
       "      <td>2.638361</td>\n",
       "    </tr>\n",
       "    <tr>\n",
       "      <th>business</th>\n",
       "      <td>0.685000</td>\n",
       "      <td>1.983771</td>\n",
       "    </tr>\n",
       "    <tr>\n",
       "      <th>employment_type_Full Time</th>\n",
       "      <td>0.660489</td>\n",
       "      <td>1.935739</td>\n",
       "    </tr>\n",
       "    <tr>\n",
       "      <th>banking</th>\n",
       "      <td>0.542728</td>\n",
       "      <td>1.720695</td>\n",
       "    </tr>\n",
       "    <tr>\n",
       "      <th>stakeholders</th>\n",
       "      <td>0.478592</td>\n",
       "      <td>1.613801</td>\n",
       "    </tr>\n",
       "  </tbody>\n",
       "</table>\n",
       "</div>"
      ],
      "text/plain": [
       "                               coef  odds ratio\n",
       "job_level_Professional     0.970158    2.638361\n",
       "business                   0.685000    1.983771\n",
       "employment_type_Full Time  0.660489    1.935739\n",
       "banking                    0.542728    1.720695\n",
       "stakeholders               0.478592    1.613801"
      ]
     },
     "execution_count": 122,
     "metadata": {},
     "output_type": "execute_result"
    }
   ],
   "source": [
    "new_best_lr_df = pd.DataFrame(new_best_lr.coef_, columns = (vect_X_train.columns)).T\n",
    "new_best_lr_df.columns = ['coef']\n",
    "new_best_lr_df['odds ratio'] = new_best_lr_df['coef'].apply(lambda x : np.exp(x))\n",
    "new_best_lr_df = new_best_lr_df.sort_values(by = ['odds ratio'], ascending = False)\n",
    "new_best_lr_df.head()"
   ]
  },
  {
   "cell_type": "code",
   "execution_count": 123,
   "metadata": {},
   "outputs": [],
   "source": [
    "# Top 5 factors that distinguish analyst:\n",
    "# Professional level jobs are 2.64 times more likely to be an analyst.\n",
    "# Jobs in the business sector are 1.98 times more likely to be an analyst.\n",
    "# Full time jobs are 1.94 times more likely to be an analyst.\n",
    "# Jobs in the banking sector are 1.72 times more likely to be an analyst.\n",
    "# Jobs requiring interaction with stakeholders are 1.61 times more likely to be an analyst."
   ]
  },
  {
   "cell_type": "code",
   "execution_count": 124,
   "metadata": {},
   "outputs": [],
   "source": [
    "# Bonus Question"
   ]
  },
  {
   "cell_type": "code",
   "execution_count": 125,
   "metadata": {},
   "outputs": [],
   "source": [
    "# Get predicted classes"
   ]
  },
  {
   "cell_type": "code",
   "execution_count": 137,
   "metadata": {
    "scrolled": true
   },
   "outputs": [
    {
     "data": {
      "text/html": [
       "<div>\n",
       "<style scoped>\n",
       "    .dataframe tbody tr th:only-of-type {\n",
       "        vertical-align: middle;\n",
       "    }\n",
       "\n",
       "    .dataframe tbody tr th {\n",
       "        vertical-align: top;\n",
       "    }\n",
       "\n",
       "    .dataframe thead th {\n",
       "        text-align: right;\n",
       "    }\n",
       "</style>\n",
       "<table border=\"1\" class=\"dataframe\">\n",
       "  <thead>\n",
       "    <tr style=\"text-align: right;\">\n",
       "      <th></th>\n",
       "      <th>y_pred</th>\n",
       "    </tr>\n",
       "  </thead>\n",
       "  <tbody>\n",
       "    <tr>\n",
       "      <th>0</th>\n",
       "      <td>1</td>\n",
       "    </tr>\n",
       "    <tr>\n",
       "      <th>1</th>\n",
       "      <td>1</td>\n",
       "    </tr>\n",
       "    <tr>\n",
       "      <th>2</th>\n",
       "      <td>1</td>\n",
       "    </tr>\n",
       "    <tr>\n",
       "      <th>3</th>\n",
       "      <td>1</td>\n",
       "    </tr>\n",
       "    <tr>\n",
       "      <th>4</th>\n",
       "      <td>1</td>\n",
       "    </tr>\n",
       "  </tbody>\n",
       "</table>\n",
       "</div>"
      ],
      "text/plain": [
       "   y_pred\n",
       "0       1\n",
       "1       1\n",
       "2       1\n",
       "3       1\n",
       "4       1"
      ]
     },
     "execution_count": 137,
     "metadata": {},
     "output_type": "execute_result"
    }
   ],
   "source": [
    "y_pred = best_lr.predict(cvect_X_test)\n",
    "pred = pd.DataFrame(y_pred, columns = ['y_pred'])\n",
    "pred.head()"
   ]
  },
  {
   "cell_type": "code",
   "execution_count": 227,
   "metadata": {},
   "outputs": [],
   "source": [
    "# Get predicted probabilities"
   ]
  },
  {
   "cell_type": "code",
   "execution_count": 228,
   "metadata": {},
   "outputs": [
    {
     "data": {
      "text/html": [
       "<div>\n",
       "<style scoped>\n",
       "    .dataframe tbody tr th:only-of-type {\n",
       "        vertical-align: middle;\n",
       "    }\n",
       "\n",
       "    .dataframe tbody tr th {\n",
       "        vertical-align: top;\n",
       "    }\n",
       "\n",
       "    .dataframe thead th {\n",
       "        text-align: right;\n",
       "    }\n",
       "</style>\n",
       "<table border=\"1\" class=\"dataframe\">\n",
       "  <thead>\n",
       "    <tr style=\"text-align: right;\">\n",
       "      <th></th>\n",
       "      <th>low_salary</th>\n",
       "      <th>high_salary</th>\n",
       "    </tr>\n",
       "  </thead>\n",
       "  <tbody>\n",
       "    <tr>\n",
       "      <th>0</th>\n",
       "      <td>0.019396</td>\n",
       "      <td>0.980604</td>\n",
       "    </tr>\n",
       "    <tr>\n",
       "      <th>1</th>\n",
       "      <td>0.000150</td>\n",
       "      <td>0.999850</td>\n",
       "    </tr>\n",
       "    <tr>\n",
       "      <th>2</th>\n",
       "      <td>0.001069</td>\n",
       "      <td>0.998931</td>\n",
       "    </tr>\n",
       "    <tr>\n",
       "      <th>3</th>\n",
       "      <td>0.019441</td>\n",
       "      <td>0.980559</td>\n",
       "    </tr>\n",
       "    <tr>\n",
       "      <th>4</th>\n",
       "      <td>0.000007</td>\n",
       "      <td>0.999993</td>\n",
       "    </tr>\n",
       "  </tbody>\n",
       "</table>\n",
       "</div>"
      ],
      "text/plain": [
       "   low_salary  high_salary\n",
       "0    0.019396     0.980604\n",
       "1    0.000150     0.999850\n",
       "2    0.001069     0.998931\n",
       "3    0.019441     0.980559\n",
       "4    0.000007     0.999993"
      ]
     },
     "execution_count": 228,
     "metadata": {},
     "output_type": "execute_result"
    }
   ],
   "source": [
    "y_pred_prob = best_lr.predict_proba(cvect_X_test)\n",
    "prob = pd.DataFrame(y_pred_prob, columns = ['low_salary','high_salary'])\n",
    "prob.head()"
   ]
  },
  {
   "cell_type": "code",
   "execution_count": 229,
   "metadata": {},
   "outputs": [],
   "source": [
    "# Find the number of false positives based on selected model"
   ]
  },
  {
   "cell_type": "code",
   "execution_count": 230,
   "metadata": {},
   "outputs": [
    {
     "data": {
      "text/html": [
       "<div>\n",
       "<style scoped>\n",
       "    .dataframe tbody tr th:only-of-type {\n",
       "        vertical-align: middle;\n",
       "    }\n",
       "\n",
       "    .dataframe tbody tr th {\n",
       "        vertical-align: top;\n",
       "    }\n",
       "\n",
       "    .dataframe thead th {\n",
       "        text-align: right;\n",
       "    }\n",
       "</style>\n",
       "<table border=\"1\" class=\"dataframe\">\n",
       "  <thead>\n",
       "    <tr style=\"text-align: right;\">\n",
       "      <th></th>\n",
       "      <th>predicted_low</th>\n",
       "      <th>predicted_high</th>\n",
       "    </tr>\n",
       "  </thead>\n",
       "  <tbody>\n",
       "    <tr>\n",
       "      <th>is_low</th>\n",
       "      <td>120</td>\n",
       "      <td>47</td>\n",
       "    </tr>\n",
       "    <tr>\n",
       "      <th>is_high</th>\n",
       "      <td>43</td>\n",
       "      <td>134</td>\n",
       "    </tr>\n",
       "  </tbody>\n",
       "</table>\n",
       "</div>"
      ],
      "text/plain": [
       "         predicted_low  predicted_high\n",
       "is_low             120              47\n",
       "is_high             43             134"
      ]
     },
     "execution_count": 230,
     "metadata": {},
     "output_type": "execute_result"
    }
   ],
   "source": [
    "from sklearn.metrics import confusion_matrix\n",
    "\n",
    "conmat = np.array(confusion_matrix(y_test, y_pred, labels = [0,1]))\n",
    "confusion = pd.DataFrame(conmat, index = ['is_low', 'is_high'],\n",
    "                         columns = ['predicted_low','predicted_high'])\n",
    "confusion"
   ]
  },
  {
   "cell_type": "code",
   "execution_count": 231,
   "metadata": {},
   "outputs": [],
   "source": [
    "# Iterate through the probability threshold and find the respective number of false positives"
   ]
  },
  {
   "cell_type": "code",
   "execution_count": 232,
   "metadata": {},
   "outputs": [
    {
     "name": "stdout",
     "output_type": "stream",
     "text": [
      "threshold:0.5, false positive:47\n",
      "threshold:0.51, false positive:47\n",
      "threshold:0.52, false positive:47\n",
      "threshold:0.53, false positive:47\n",
      "threshold:0.54, false positive:47\n",
      "threshold:0.55, false positive:47\n",
      "threshold:0.56, false positive:47\n",
      "threshold:0.5700000000000001, false positive:45\n",
      "threshold:0.5800000000000001, false positive:45\n",
      "threshold:0.5900000000000001, false positive:45\n",
      "threshold:0.6000000000000001, false positive:45\n",
      "threshold:0.6100000000000001, false positive:45\n",
      "threshold:0.6200000000000001, false positive:45\n",
      "threshold:0.6300000000000001, false positive:45\n",
      "threshold:0.6400000000000001, false positive:44\n",
      "threshold:0.6500000000000001, false positive:44\n",
      "threshold:0.6600000000000001, false positive:44\n",
      "threshold:0.6700000000000002, false positive:44\n",
      "threshold:0.6800000000000002, false positive:44\n",
      "threshold:0.6900000000000002, false positive:43\n",
      "threshold:0.7000000000000002, false positive:43\n",
      "threshold:0.7100000000000002, false positive:43\n",
      "threshold:0.7200000000000002, false positive:41\n",
      "threshold:0.7300000000000002, false positive:41\n",
      "threshold:0.7400000000000002, false positive:41\n",
      "threshold:0.7500000000000002, false positive:41\n",
      "threshold:0.7600000000000002, false positive:41\n",
      "threshold:0.7700000000000002, false positive:41\n",
      "threshold:0.7800000000000002, false positive:41\n",
      "threshold:0.7900000000000003, false positive:39\n",
      "threshold:0.8000000000000003, false positive:39\n",
      "threshold:0.8100000000000003, false positive:39\n",
      "threshold:0.8200000000000003, false positive:39\n",
      "threshold:0.8300000000000003, false positive:38\n",
      "threshold:0.8400000000000003, false positive:38\n",
      "threshold:0.8500000000000003, false positive:38\n",
      "threshold:0.8600000000000003, false positive:37\n",
      "threshold:0.8700000000000003, false positive:37\n",
      "threshold:0.8800000000000003, false positive:37\n",
      "threshold:0.8900000000000003, false positive:37\n",
      "threshold:0.9000000000000004, false positive:37\n",
      "threshold:0.9100000000000004, false positive:35\n",
      "threshold:0.9200000000000004, false positive:34\n",
      "threshold:0.9300000000000004, false positive:34\n",
      "threshold:0.9400000000000004, false positive:33\n",
      "threshold:0.9500000000000004, false positive:30\n",
      "threshold:0.9600000000000004, false positive:29\n",
      "threshold:0.9700000000000004, false positive:29\n",
      "threshold:0.9800000000000004, false positive:28\n",
      "threshold:0.9900000000000004, false positive:26\n"
     ]
    }
   ],
   "source": [
    "for i in np.arange(0.5,1,0.01):\n",
    "    label = np.array([1 if x >= i else 0 for x in prob['high_salary'].values])\n",
    "    fp = np.sum((y_test.values == 0) & (label == 1))\n",
    "    print('threshold:{}, false positive:{}'.format(i,fp))"
   ]
  },
  {
   "cell_type": "code",
   "execution_count": 233,
   "metadata": {},
   "outputs": [],
   "source": [
    "# Set the probability threshold to be higher than 0.5, for example 0.91, and update the \n",
    "# predicted classes based on this new threshold"
   ]
  },
  {
   "cell_type": "code",
   "execution_count": 240,
   "metadata": {},
   "outputs": [
    {
     "data": {
      "text/html": [
       "<div>\n",
       "<style scoped>\n",
       "    .dataframe tbody tr th:only-of-type {\n",
       "        vertical-align: middle;\n",
       "    }\n",
       "\n",
       "    .dataframe tbody tr th {\n",
       "        vertical-align: top;\n",
       "    }\n",
       "\n",
       "    .dataframe thead th {\n",
       "        text-align: right;\n",
       "    }\n",
       "</style>\n",
       "<table border=\"1\" class=\"dataframe\">\n",
       "  <thead>\n",
       "    <tr style=\"text-align: right;\">\n",
       "      <th></th>\n",
       "      <th>y_pred</th>\n",
       "      <th>prob_high</th>\n",
       "      <th>updated_y_pred</th>\n",
       "    </tr>\n",
       "  </thead>\n",
       "  <tbody>\n",
       "    <tr>\n",
       "      <th>0</th>\n",
       "      <td>1</td>\n",
       "      <td>0.980604</td>\n",
       "      <td>1</td>\n",
       "    </tr>\n",
       "    <tr>\n",
       "      <th>1</th>\n",
       "      <td>1</td>\n",
       "      <td>0.999850</td>\n",
       "      <td>1</td>\n",
       "    </tr>\n",
       "    <tr>\n",
       "      <th>2</th>\n",
       "      <td>1</td>\n",
       "      <td>0.998931</td>\n",
       "      <td>1</td>\n",
       "    </tr>\n",
       "    <tr>\n",
       "      <th>3</th>\n",
       "      <td>1</td>\n",
       "      <td>0.980559</td>\n",
       "      <td>1</td>\n",
       "    </tr>\n",
       "    <tr>\n",
       "      <th>4</th>\n",
       "      <td>1</td>\n",
       "      <td>0.999993</td>\n",
       "      <td>1</td>\n",
       "    </tr>\n",
       "  </tbody>\n",
       "</table>\n",
       "</div>"
      ],
      "text/plain": [
       "   y_pred  prob_high  updated_y_pred\n",
       "0       1   0.980604               1\n",
       "1       1   0.999850               1\n",
       "2       1   0.998931               1\n",
       "3       1   0.980559               1\n",
       "4       1   0.999993               1"
      ]
     },
     "execution_count": 240,
     "metadata": {},
     "output_type": "execute_result"
    }
   ],
   "source": [
    "pred['prob_high'] = prob['high_salary']\n",
    "pred['updated_y_pred'] = [1 if i >= 0.91 else 0 for i in pred['prob_high']]\n",
    "pred.head()"
   ]
  },
  {
   "cell_type": "code",
   "execution_count": 241,
   "metadata": {},
   "outputs": [],
   "source": [
    "# Check the updated number of false positives"
   ]
  },
  {
   "cell_type": "code",
   "execution_count": 242,
   "metadata": {},
   "outputs": [
    {
     "data": {
      "text/html": [
       "<div>\n",
       "<style scoped>\n",
       "    .dataframe tbody tr th:only-of-type {\n",
       "        vertical-align: middle;\n",
       "    }\n",
       "\n",
       "    .dataframe tbody tr th {\n",
       "        vertical-align: top;\n",
       "    }\n",
       "\n",
       "    .dataframe thead th {\n",
       "        text-align: right;\n",
       "    }\n",
       "</style>\n",
       "<table border=\"1\" class=\"dataframe\">\n",
       "  <thead>\n",
       "    <tr style=\"text-align: right;\">\n",
       "      <th></th>\n",
       "      <th>predicted_low</th>\n",
       "      <th>predicted_high</th>\n",
       "    </tr>\n",
       "  </thead>\n",
       "  <tbody>\n",
       "    <tr>\n",
       "      <th>is_low</th>\n",
       "      <td>132</td>\n",
       "      <td>35</td>\n",
       "    </tr>\n",
       "    <tr>\n",
       "      <th>is_high</th>\n",
       "      <td>64</td>\n",
       "      <td>113</td>\n",
       "    </tr>\n",
       "  </tbody>\n",
       "</table>\n",
       "</div>"
      ],
      "text/plain": [
       "         predicted_low  predicted_high\n",
       "is_low             132              35\n",
       "is_high             64             113"
      ]
     },
     "execution_count": 242,
     "metadata": {},
     "output_type": "execute_result"
    }
   ],
   "source": [
    "new_conmat = np.array(confusion_matrix(y_test, pred['updated_y_pred'], labels = [0,1]))\n",
    "new_confusion = pd.DataFrame(new_conmat, index = ['is_low', 'is_high'],\n",
    "                             columns = ['predicted_low','predicted_high'])\n",
    "new_confusion"
   ]
  },
  {
   "cell_type": "code",
   "execution_count": 237,
   "metadata": {},
   "outputs": [],
   "source": [
    "# Conclusion:\n",
    "# Reducing the number of false positives will decrease the number of true positives and \n",
    "# increase the number of false negatives."
   ]
  },
  {
   "cell_type": "code",
   "execution_count": 243,
   "metadata": {},
   "outputs": [],
   "source": [
    "# Plot the ROC curve"
   ]
  },
  {
   "cell_type": "code",
   "execution_count": 244,
   "metadata": {},
   "outputs": [
    {
     "data": {
      "image/png": "[encoded data removed]",
      "text/plain": [
       "<Figure size 576x576 with 1 Axes>"
      ]
     },
     "metadata": {
      "image/png": {
       "height": 497,
       "width": 501
      },
      "needs_background": "light"
     },
     "output_type": "display_data"
    }
   ],
   "source": [
    "import matplotlib.pyplot as plt\n",
    "from sklearn.metrics import roc_curve, auc\n",
    "\n",
    "%matplotlib inline\n",
    "%config InlineBackend.figure_format = 'retina'\n",
    "\n",
    "fpr, tpr, _ = roc_curve(y_test, y_pred_prob[:,1])\n",
    "roc_auc = auc(fpr, tpr)\n",
    "\n",
    "plt.figure(figsize = [8,8])\n",
    "plt.plot(fpr, tpr, label = 'ROC curve (area = %0.2f)' % roc_auc, linewidth = 2)\n",
    "plt.plot([0, 1], [0, 1], 'k--', linewidth = 2)\n",
    "plt.xlim([-0.05, 1.05])\n",
    "plt.ylim([-0.05, 1.05])\n",
    "plt.xlabel('False Positive Rate', fontsize = 12)\n",
    "plt.ylabel('True Positive Rate', fontsize = 12)\n",
    "plt.title('Receiver operating characteristic: is high salary', fontsize = 12)\n",
    "plt.legend(loc = \"lower right\")\n",
    "plt.show()"
   ]
  },
  {
   "cell_type": "code",
   "execution_count": 140,
   "metadata": {},
   "outputs": [],
   "source": [
    "# Executive Summary:\n",
    "\n",
    "# Data consisted of company, position, job id, location, employment type, job level, \n",
    "# minimum experience, job category, salary, salary type, role, responsibility and requirement.\n",
    "\n",
    "# Question 1 - Investigate factors that distinguish high salary jobs from low salary jobs\n",
    "# The monthly median salary, $6500, is used to distinguish between high salary jobs and\n",
    "# low salary jobs. High salary jobs are defined to have a salary of $6500 or more. Low salary\n",
    "# jobs are defined to have a salary of less than $6500. \n",
    "# Positions were categorised into analyst, engineer, developer, scientist, researcher, manager, \n",
    "# consultant, architect, programmer, adminstrator and executive. Positions that did not fall \n",
    "# into any of the above-mentioned categories were categorised as others. \n",
    "# Locations were based on postal district. \n",
    "# Employment types were categorised into permanent, full time, contract, permanent with \n",
    "# contract, intership, part time and temporary.\n",
    "# Job levels were categorised into professional, executive, senior executive, middle management,\n",
    "# manager, junior executive, fresh/entry level, senior management and non-executive. For jobs \n",
    "# having more than 1 job level category, only the first job level category was considered as\n",
    "# the first job level category was deemed to be the most important.\n",
    "# Minimum experience was not considered due to insufficient data.   \n",
    "# For job categories having more than 1 job industry, only the first job industry was \n",
    "# considered as the first job industry was deemed to be the most important.\n",
    "# Model has an auc score of 0.85 and an accuracy score of 0.74.\n",
    "# Top 5 factors that impact salary:\n",
    "# 1. Senior executive level jobs are 702 times more likely to get high salary.\n",
    "# 2. Jobs requiring technical experience are 78 times more likely to get high salary.\n",
    "# 3. Jobs in the banking sector are 62 times more likely to get high salary.\n",
    "# 4. Manager level jobs are 59 times more likely to get high salary.\n",
    "# 5. People with 10 years of experience are 27 times more likely to get high salary.\n",
    "    \n",
    "# Question 2 - Investigate factors that distinguish analyst from other data jobs\n",
    "# Model has an auc score of 0.98 and an accuracy score of 0.88.     \n",
    "# Top 5 factors that distinguish analyst:\n",
    "# 1. Professional level jobs are 2.64 times more likely to be an analyst.\n",
    "# 2. Jobs in the business sector are 1.98 times more likely to be an analyst.\n",
    "# 3. Full time jobs are 1.94 times more likely to be an analyst.\n",
    "# 4. Jobs in the banking sector are 1.72 times more likely to be an analyst.\n",
    "# 5. Jobs requiring interaction with stakeholders are 1.61 times more likely to be an analyst.   \n",
    "\n",
    "# Bonus Question - Tell a client incorrectly that they would get a low salary job than tell \n",
    "# a client incorrectly that they would get a high salary job \n",
    "# Do so by reducing the number of false positives. \n",
    "# Tradeoffs are a decrease in the number of true positives (tell a client correctly that they\n",
    "# would get a high salary job) and an increase in the number of false negatives (tell a client\n",
    "# incorrectly that they would get a low salary job).\n",
    "\n",
    "# Limitations:\n",
    "# 1. Findings only applicable to data related jobs in Singapore.\n",
    "# 2. Findings only applicable for the near future, not an accurate reflection of job seeking\n",
    "# in the distant future like 10 years later."
   ]
  }
 ],
 "metadata": {
  "kernelspec": {
   "display_name": "Python 3",
   "language": "python",
   "name": "python3"
  },
  "language_info": {
   "codemirror_mode": {
    "name": "ipython",
    "version": 3
   },
   "file_extension": ".py",
   "mimetype": "text/x-python",
   "name": "python",
   "nbconvert_exporter": "python",
   "pygments_lexer": "ipython3",
   "version": "3.7.1"
  }
 },
 "nbformat": 4,
 "nbformat_minor": 2
}
